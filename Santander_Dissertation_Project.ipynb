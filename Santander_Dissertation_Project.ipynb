{
 "cells": [
  {
   "cell_type": "code",
   "execution_count": null,
   "metadata": {
    "id": "8cXLz77cU_wx"
   },
   "outputs": [],
   "source": [
    "import pandas as pd\n",
    "import numpy as np\n"
   ]
  },
  {
   "cell_type": "markdown",
   "metadata": {},
   "source": [
    "### Training and testing data is available <a href = \"https://www.kaggle.com/c/santander-customer-transaction-prediction/data\">here.</a>"
   ]
  },
  {
   "cell_type": "code",
   "execution_count": null,
   "metadata": {
    "id": "_bhkB8BzU_w6"
   },
   "outputs": [],
   "source": [
    "data=pd.read_csv('train_santander.csv')\n",
    "test=pd.read_csv('test.csv')"
   ]
  },
  {
   "cell_type": "markdown",
   "metadata": {},
   "source": [
    "### Due to large data size, we reduce its size for faster implmentation of ML models."
   ]
  },
  {
   "cell_type": "code",
   "execution_count": null,
   "metadata": {
    "id": "vF-dHxK2U_xE"
   },
   "outputs": [],
   "source": [
    "def reduce_mem_usage(df):\n",
    "    \"\"\" iterate through all the columns of a dataframe and modify the data type\n",
    "        to reduce memory usage.        \n",
    "    \"\"\"\n",
    "    start_mem = df.memory_usage().sum() / 1024**2\n",
    "    print('Memory usage of dataframe is {:.2f} MB'.format(start_mem))\n",
    "\n",
    "    for col in df.columns:\n",
    "        col_type = df[col].dtype\n",
    "\n",
    "        if col_type != object:\n",
    "            c_min = df[col].min()\n",
    "            c_max = df[col].max()\n",
    "            if str(col_type)[:3] == 'int':\n",
    "                if c_min > np.iinfo(np.int8).min and c_max < np.iinfo(np.int8).max:\n",
    "                    df[col] = df[col].astype(np.int8)\n",
    "                elif c_min > np.iinfo(np.int16).min and c_max < np.iinfo(np.int16).max:\n",
    "                    df[col] = df[col].astype(np.int16)\n",
    "                elif c_min > np.iinfo(np.int32).min and c_max < np.iinfo(np.int32).max:\n",
    "                    df[col] = df[col].astype(np.int32)\n",
    "                elif c_min > np.iinfo(np.int64).min and c_max < np.iinfo(np.int64).max:\n",
    "                    df[col] = df[col].astype(np.int64)  \n",
    "            else:\n",
    "                if c_min > np.finfo(np.float16).min and c_max < np.finfo(np.float16).max:\n",
    "                    df[col] = df[col].astype(np.float16)\n",
    "                elif c_min > np.finfo(np.float32).min and c_max < np.finfo(np.float32).max:\n",
    "                    df[col] = df[col].astype(np.float32)\n",
    "                else:\n",
    "                    df[col] = df[col].astype(np.float64)\n",
    "\n",
    "    end_mem = df.memory_usage().sum() / 1024**2\n",
    "    print('Memory usage after optimization is: {:.2f} MB'.format(end_mem))\n",
    "    print('Decreased by {:.1f}%'.format(100 * (start_mem - end_mem) / start_mem))\n",
    "\n",
    "    return df\n"
   ]
  },
  {
   "cell_type": "code",
   "execution_count": null,
   "metadata": {
    "colab": {
     "base_uri": "https://localhost:8080/",
     "height": 119
    },
    "id": "zjKa7KdhU_xH",
    "outputId": "035b36cf-37fd-4910-8cb5-9797534f862c"
   },
   "outputs": [
    {
     "name": "stdout",
     "output_type": "stream",
     "text": [
      "Memory usage of dataframe is 308.23 MB\n",
      "Memory usage after optimization is: 78.01 MB\n",
      "Decreased by 74.7%\n",
      "Memory usage of dataframe is 306.70 MB\n",
      "Memory usage after optimization is: 77.82 MB\n",
      "Decreased by 74.6%\n"
     ]
    }
   ],
   "source": [
    "data = reduce_mem_usage(data)\n",
    "test = reduce_mem_usage(test)"
   ]
  },
  {
   "cell_type": "code",
   "execution_count": null,
   "metadata": {
    "colab": {
     "base_uri": "https://localhost:8080/",
     "height": 253
    },
    "id": "ko0wp8m-PAE8",
    "outputId": "781123ea-e414-4774-f5ed-f8a9b067d5bb"
   },
   "outputs": [
    {
     "data": {
      "text/html": [
       "<div>\n",
       "<style scoped>\n",
       "    .dataframe tbody tr th:only-of-type {\n",
       "        vertical-align: middle;\n",
       "    }\n",
       "\n",
       "    .dataframe tbody tr th {\n",
       "        vertical-align: top;\n",
       "    }\n",
       "\n",
       "    .dataframe thead th {\n",
       "        text-align: right;\n",
       "    }\n",
       "</style>\n",
       "<table border=\"1\" class=\"dataframe\">\n",
       "  <thead>\n",
       "    <tr style=\"text-align: right;\">\n",
       "      <th></th>\n",
       "      <th>ID_code</th>\n",
       "      <th>target</th>\n",
       "      <th>var_0</th>\n",
       "      <th>var_1</th>\n",
       "      <th>var_2</th>\n",
       "      <th>var_3</th>\n",
       "      <th>var_4</th>\n",
       "      <th>var_5</th>\n",
       "      <th>var_6</th>\n",
       "      <th>var_7</th>\n",
       "      <th>var_8</th>\n",
       "      <th>var_9</th>\n",
       "      <th>var_10</th>\n",
       "      <th>var_11</th>\n",
       "      <th>var_12</th>\n",
       "      <th>var_13</th>\n",
       "      <th>var_14</th>\n",
       "      <th>var_15</th>\n",
       "      <th>var_16</th>\n",
       "      <th>var_17</th>\n",
       "      <th>var_18</th>\n",
       "      <th>var_19</th>\n",
       "      <th>var_20</th>\n",
       "      <th>var_21</th>\n",
       "      <th>var_22</th>\n",
       "      <th>var_23</th>\n",
       "      <th>var_24</th>\n",
       "      <th>var_25</th>\n",
       "      <th>var_26</th>\n",
       "      <th>var_27</th>\n",
       "      <th>var_28</th>\n",
       "      <th>var_29</th>\n",
       "      <th>var_30</th>\n",
       "      <th>var_31</th>\n",
       "      <th>var_32</th>\n",
       "      <th>var_33</th>\n",
       "      <th>var_34</th>\n",
       "      <th>var_35</th>\n",
       "      <th>var_36</th>\n",
       "      <th>var_37</th>\n",
       "      <th>...</th>\n",
       "      <th>var_160</th>\n",
       "      <th>var_161</th>\n",
       "      <th>var_162</th>\n",
       "      <th>var_163</th>\n",
       "      <th>var_164</th>\n",
       "      <th>var_165</th>\n",
       "      <th>var_166</th>\n",
       "      <th>var_167</th>\n",
       "      <th>var_168</th>\n",
       "      <th>var_169</th>\n",
       "      <th>var_170</th>\n",
       "      <th>var_171</th>\n",
       "      <th>var_172</th>\n",
       "      <th>var_173</th>\n",
       "      <th>var_174</th>\n",
       "      <th>var_175</th>\n",
       "      <th>var_176</th>\n",
       "      <th>var_177</th>\n",
       "      <th>var_178</th>\n",
       "      <th>var_179</th>\n",
       "      <th>var_180</th>\n",
       "      <th>var_181</th>\n",
       "      <th>var_182</th>\n",
       "      <th>var_183</th>\n",
       "      <th>var_184</th>\n",
       "      <th>var_185</th>\n",
       "      <th>var_186</th>\n",
       "      <th>var_187</th>\n",
       "      <th>var_188</th>\n",
       "      <th>var_189</th>\n",
       "      <th>var_190</th>\n",
       "      <th>var_191</th>\n",
       "      <th>var_192</th>\n",
       "      <th>var_193</th>\n",
       "      <th>var_194</th>\n",
       "      <th>var_195</th>\n",
       "      <th>var_196</th>\n",
       "      <th>var_197</th>\n",
       "      <th>var_198</th>\n",
       "      <th>var_199</th>\n",
       "    </tr>\n",
       "  </thead>\n",
       "  <tbody>\n",
       "    <tr>\n",
       "      <th>0</th>\n",
       "      <td>train_0</td>\n",
       "      <td>0</td>\n",
       "      <td>8.921875</td>\n",
       "      <td>-6.785156</td>\n",
       "      <td>11.906250</td>\n",
       "      <td>5.093750</td>\n",
       "      <td>11.460938</td>\n",
       "      <td>-9.281250</td>\n",
       "      <td>5.117188</td>\n",
       "      <td>18.625000</td>\n",
       "      <td>-4.921875</td>\n",
       "      <td>5.746094</td>\n",
       "      <td>2.925781</td>\n",
       "      <td>3.181641</td>\n",
       "      <td>14.015625</td>\n",
       "      <td>0.574707</td>\n",
       "      <td>8.796875</td>\n",
       "      <td>14.570312</td>\n",
       "      <td>5.750000</td>\n",
       "      <td>-7.238281</td>\n",
       "      <td>4.285156</td>\n",
       "      <td>30.718750</td>\n",
       "      <td>10.531250</td>\n",
       "      <td>16.218750</td>\n",
       "      <td>2.578125</td>\n",
       "      <td>2.470703</td>\n",
       "      <td>14.382812</td>\n",
       "      <td>13.429688</td>\n",
       "      <td>-5.148438</td>\n",
       "      <td>-0.407227</td>\n",
       "      <td>4.929688</td>\n",
       "      <td>5.996094</td>\n",
       "      <td>-0.308594</td>\n",
       "      <td>12.906250</td>\n",
       "      <td>-3.876953</td>\n",
       "      <td>16.890625</td>\n",
       "      <td>11.195312</td>\n",
       "      <td>10.578125</td>\n",
       "      <td>0.676270</td>\n",
       "      <td>7.886719</td>\n",
       "      <td>...</td>\n",
       "      <td>15.460938</td>\n",
       "      <td>5.312500</td>\n",
       "      <td>3.615234</td>\n",
       "      <td>5.039062</td>\n",
       "      <td>6.675781</td>\n",
       "      <td>12.664062</td>\n",
       "      <td>2.701172</td>\n",
       "      <td>-0.697266</td>\n",
       "      <td>9.601562</td>\n",
       "      <td>5.488281</td>\n",
       "      <td>-4.765625</td>\n",
       "      <td>-8.421875</td>\n",
       "      <td>20.875000</td>\n",
       "      <td>3.152344</td>\n",
       "      <td>18.562500</td>\n",
       "      <td>7.742188</td>\n",
       "      <td>-10.125000</td>\n",
       "      <td>13.726562</td>\n",
       "      <td>-3.519531</td>\n",
       "      <td>1.719727</td>\n",
       "      <td>-8.406250</td>\n",
       "      <td>9.015625</td>\n",
       "      <td>3.066406</td>\n",
       "      <td>14.367188</td>\n",
       "      <td>25.843750</td>\n",
       "      <td>5.875000</td>\n",
       "      <td>11.843750</td>\n",
       "      <td>-19.718750</td>\n",
       "      <td>17.578125</td>\n",
       "      <td>0.585938</td>\n",
       "      <td>4.433594</td>\n",
       "      <td>3.964844</td>\n",
       "      <td>3.136719</td>\n",
       "      <td>1.691406</td>\n",
       "      <td>18.515625</td>\n",
       "      <td>-2.398438</td>\n",
       "      <td>7.878906</td>\n",
       "      <td>8.562500</td>\n",
       "      <td>12.781250</td>\n",
       "      <td>-1.091797</td>\n",
       "    </tr>\n",
       "    <tr>\n",
       "      <th>1</th>\n",
       "      <td>train_1</td>\n",
       "      <td>0</td>\n",
       "      <td>11.500000</td>\n",
       "      <td>-4.148438</td>\n",
       "      <td>13.859375</td>\n",
       "      <td>5.390625</td>\n",
       "      <td>12.359375</td>\n",
       "      <td>7.042969</td>\n",
       "      <td>5.621094</td>\n",
       "      <td>16.531250</td>\n",
       "      <td>3.146484</td>\n",
       "      <td>8.085938</td>\n",
       "      <td>-0.403320</td>\n",
       "      <td>8.054688</td>\n",
       "      <td>14.023438</td>\n",
       "      <td>8.414062</td>\n",
       "      <td>5.433594</td>\n",
       "      <td>13.703125</td>\n",
       "      <td>13.828125</td>\n",
       "      <td>-15.585938</td>\n",
       "      <td>7.800781</td>\n",
       "      <td>28.578125</td>\n",
       "      <td>3.427734</td>\n",
       "      <td>2.740234</td>\n",
       "      <td>8.554688</td>\n",
       "      <td>3.371094</td>\n",
       "      <td>6.976562</td>\n",
       "      <td>13.890625</td>\n",
       "      <td>-11.765625</td>\n",
       "      <td>-2.558594</td>\n",
       "      <td>5.046875</td>\n",
       "      <td>0.548340</td>\n",
       "      <td>-9.296875</td>\n",
       "      <td>7.875000</td>\n",
       "      <td>1.286133</td>\n",
       "      <td>19.375000</td>\n",
       "      <td>11.367188</td>\n",
       "      <td>0.739746</td>\n",
       "      <td>2.798828</td>\n",
       "      <td>5.843750</td>\n",
       "      <td>...</td>\n",
       "      <td>29.484375</td>\n",
       "      <td>5.867188</td>\n",
       "      <td>3.820312</td>\n",
       "      <td>15.835938</td>\n",
       "      <td>-5.011719</td>\n",
       "      <td>15.132812</td>\n",
       "      <td>3.201172</td>\n",
       "      <td>9.320312</td>\n",
       "      <td>3.882812</td>\n",
       "      <td>5.800781</td>\n",
       "      <td>5.539062</td>\n",
       "      <td>5.097656</td>\n",
       "      <td>22.031250</td>\n",
       "      <td>5.511719</td>\n",
       "      <td>30.265625</td>\n",
       "      <td>10.500000</td>\n",
       "      <td>-7.234375</td>\n",
       "      <td>16.578125</td>\n",
       "      <td>-7.347656</td>\n",
       "      <td>11.078125</td>\n",
       "      <td>-5.593750</td>\n",
       "      <td>9.484375</td>\n",
       "      <td>-14.906250</td>\n",
       "      <td>9.421875</td>\n",
       "      <td>22.546875</td>\n",
       "      <td>-4.863281</td>\n",
       "      <td>7.656250</td>\n",
       "      <td>-15.929688</td>\n",
       "      <td>13.320312</td>\n",
       "      <td>-0.356689</td>\n",
       "      <td>7.640625</td>\n",
       "      <td>7.722656</td>\n",
       "      <td>2.583984</td>\n",
       "      <td>10.953125</td>\n",
       "      <td>15.429688</td>\n",
       "      <td>2.033203</td>\n",
       "      <td>8.125000</td>\n",
       "      <td>8.789062</td>\n",
       "      <td>18.359375</td>\n",
       "      <td>1.952148</td>\n",
       "    </tr>\n",
       "    <tr>\n",
       "      <th>2</th>\n",
       "      <td>train_2</td>\n",
       "      <td>0</td>\n",
       "      <td>8.609375</td>\n",
       "      <td>-2.746094</td>\n",
       "      <td>12.078125</td>\n",
       "      <td>7.894531</td>\n",
       "      <td>10.585938</td>\n",
       "      <td>-9.085938</td>\n",
       "      <td>6.941406</td>\n",
       "      <td>14.617188</td>\n",
       "      <td>-4.917969</td>\n",
       "      <td>5.953125</td>\n",
       "      <td>-0.324951</td>\n",
       "      <td>-11.265625</td>\n",
       "      <td>14.195312</td>\n",
       "      <td>7.312500</td>\n",
       "      <td>7.523438</td>\n",
       "      <td>14.648438</td>\n",
       "      <td>7.679688</td>\n",
       "      <td>-1.739258</td>\n",
       "      <td>4.699219</td>\n",
       "      <td>20.484375</td>\n",
       "      <td>17.750000</td>\n",
       "      <td>18.140625</td>\n",
       "      <td>1.214844</td>\n",
       "      <td>3.513672</td>\n",
       "      <td>5.675781</td>\n",
       "      <td>13.218750</td>\n",
       "      <td>-7.992188</td>\n",
       "      <td>-2.902344</td>\n",
       "      <td>5.847656</td>\n",
       "      <td>6.144531</td>\n",
       "      <td>-11.101562</td>\n",
       "      <td>12.484375</td>\n",
       "      <td>-2.287109</td>\n",
       "      <td>19.046875</td>\n",
       "      <td>11.046875</td>\n",
       "      <td>4.109375</td>\n",
       "      <td>4.699219</td>\n",
       "      <td>6.933594</td>\n",
       "      <td>...</td>\n",
       "      <td>13.203125</td>\n",
       "      <td>5.843750</td>\n",
       "      <td>4.707031</td>\n",
       "      <td>5.714844</td>\n",
       "      <td>-1.041016</td>\n",
       "      <td>20.515625</td>\n",
       "      <td>3.279297</td>\n",
       "      <td>-5.593750</td>\n",
       "      <td>7.316406</td>\n",
       "      <td>5.769531</td>\n",
       "      <td>-7.093750</td>\n",
       "      <td>-3.912109</td>\n",
       "      <td>7.257812</td>\n",
       "      <td>-5.824219</td>\n",
       "      <td>25.687500</td>\n",
       "      <td>10.921875</td>\n",
       "      <td>-0.310303</td>\n",
       "      <td>8.843750</td>\n",
       "      <td>-9.703125</td>\n",
       "      <td>2.400391</td>\n",
       "      <td>-4.292969</td>\n",
       "      <td>9.390625</td>\n",
       "      <td>-13.265625</td>\n",
       "      <td>3.154297</td>\n",
       "      <td>23.093750</td>\n",
       "      <td>-5.300781</td>\n",
       "      <td>5.375000</td>\n",
       "      <td>-6.265625</td>\n",
       "      <td>10.195312</td>\n",
       "      <td>-0.841797</td>\n",
       "      <td>2.906250</td>\n",
       "      <td>9.789062</td>\n",
       "      <td>1.669922</td>\n",
       "      <td>1.685547</td>\n",
       "      <td>21.609375</td>\n",
       "      <td>3.142578</td>\n",
       "      <td>-6.519531</td>\n",
       "      <td>8.265625</td>\n",
       "      <td>14.718750</td>\n",
       "      <td>0.396484</td>\n",
       "    </tr>\n",
       "    <tr>\n",
       "      <th>3</th>\n",
       "      <td>train_3</td>\n",
       "      <td>0</td>\n",
       "      <td>11.062500</td>\n",
       "      <td>-2.152344</td>\n",
       "      <td>8.953125</td>\n",
       "      <td>7.195312</td>\n",
       "      <td>12.585938</td>\n",
       "      <td>-1.835938</td>\n",
       "      <td>5.843750</td>\n",
       "      <td>14.921875</td>\n",
       "      <td>-5.859375</td>\n",
       "      <td>8.242188</td>\n",
       "      <td>2.306641</td>\n",
       "      <td>2.810547</td>\n",
       "      <td>13.843750</td>\n",
       "      <td>11.968750</td>\n",
       "      <td>6.457031</td>\n",
       "      <td>14.835938</td>\n",
       "      <td>10.742188</td>\n",
       "      <td>-0.429932</td>\n",
       "      <td>15.945312</td>\n",
       "      <td>13.726562</td>\n",
       "      <td>20.296875</td>\n",
       "      <td>12.554688</td>\n",
       "      <td>6.820312</td>\n",
       "      <td>2.722656</td>\n",
       "      <td>12.132812</td>\n",
       "      <td>13.734375</td>\n",
       "      <td>0.813477</td>\n",
       "      <td>-0.905762</td>\n",
       "      <td>5.906250</td>\n",
       "      <td>2.839844</td>\n",
       "      <td>-15.242188</td>\n",
       "      <td>10.437500</td>\n",
       "      <td>-2.572266</td>\n",
       "      <td>6.179688</td>\n",
       "      <td>10.609375</td>\n",
       "      <td>-5.914062</td>\n",
       "      <td>8.171875</td>\n",
       "      <td>2.851562</td>\n",
       "      <td>...</td>\n",
       "      <td>31.890625</td>\n",
       "      <td>5.968750</td>\n",
       "      <td>7.207031</td>\n",
       "      <td>3.890625</td>\n",
       "      <td>-11.085938</td>\n",
       "      <td>17.250000</td>\n",
       "      <td>2.587891</td>\n",
       "      <td>-2.701172</td>\n",
       "      <td>0.563965</td>\n",
       "      <td>5.343750</td>\n",
       "      <td>-7.152344</td>\n",
       "      <td>-6.191406</td>\n",
       "      <td>18.234375</td>\n",
       "      <td>11.710938</td>\n",
       "      <td>14.750000</td>\n",
       "      <td>8.101562</td>\n",
       "      <td>11.875000</td>\n",
       "      <td>13.953125</td>\n",
       "      <td>-10.468750</td>\n",
       "      <td>5.695312</td>\n",
       "      <td>-3.753906</td>\n",
       "      <td>8.414062</td>\n",
       "      <td>1.898438</td>\n",
       "      <td>7.261719</td>\n",
       "      <td>-0.463867</td>\n",
       "      <td>-0.049805</td>\n",
       "      <td>7.933594</td>\n",
       "      <td>-12.828125</td>\n",
       "      <td>12.414062</td>\n",
       "      <td>1.848633</td>\n",
       "      <td>4.464844</td>\n",
       "      <td>4.742188</td>\n",
       "      <td>0.717773</td>\n",
       "      <td>1.421875</td>\n",
       "      <td>23.031250</td>\n",
       "      <td>-1.270508</td>\n",
       "      <td>-2.927734</td>\n",
       "      <td>10.289062</td>\n",
       "      <td>17.968750</td>\n",
       "      <td>-9.000000</td>\n",
       "    </tr>\n",
       "    <tr>\n",
       "      <th>4</th>\n",
       "      <td>train_4</td>\n",
       "      <td>0</td>\n",
       "      <td>9.835938</td>\n",
       "      <td>-1.483398</td>\n",
       "      <td>12.875000</td>\n",
       "      <td>6.636719</td>\n",
       "      <td>12.273438</td>\n",
       "      <td>2.449219</td>\n",
       "      <td>5.941406</td>\n",
       "      <td>19.250000</td>\n",
       "      <td>6.265625</td>\n",
       "      <td>7.679688</td>\n",
       "      <td>-9.445312</td>\n",
       "      <td>-12.140625</td>\n",
       "      <td>13.851562</td>\n",
       "      <td>7.890625</td>\n",
       "      <td>7.789062</td>\n",
       "      <td>15.054688</td>\n",
       "      <td>8.484375</td>\n",
       "      <td>-3.068359</td>\n",
       "      <td>6.527344</td>\n",
       "      <td>11.312500</td>\n",
       "      <td>21.421875</td>\n",
       "      <td>18.953125</td>\n",
       "      <td>10.109375</td>\n",
       "      <td>2.714844</td>\n",
       "      <td>14.210938</td>\n",
       "      <td>13.546875</td>\n",
       "      <td>3.173828</td>\n",
       "      <td>-3.341797</td>\n",
       "      <td>5.902344</td>\n",
       "      <td>7.933594</td>\n",
       "      <td>-3.158203</td>\n",
       "      <td>9.468750</td>\n",
       "      <td>-0.008301</td>\n",
       "      <td>19.328125</td>\n",
       "      <td>12.406250</td>\n",
       "      <td>0.632812</td>\n",
       "      <td>2.792969</td>\n",
       "      <td>5.820312</td>\n",
       "      <td>...</td>\n",
       "      <td>33.500000</td>\n",
       "      <td>5.695312</td>\n",
       "      <td>5.464844</td>\n",
       "      <td>18.218750</td>\n",
       "      <td>6.578125</td>\n",
       "      <td>21.265625</td>\n",
       "      <td>3.230469</td>\n",
       "      <td>-1.776367</td>\n",
       "      <td>3.128906</td>\n",
       "      <td>5.550781</td>\n",
       "      <td>1.449219</td>\n",
       "      <td>-2.662109</td>\n",
       "      <td>19.812500</td>\n",
       "      <td>2.371094</td>\n",
       "      <td>18.468750</td>\n",
       "      <td>16.328125</td>\n",
       "      <td>-3.345703</td>\n",
       "      <td>13.523438</td>\n",
       "      <td>1.718750</td>\n",
       "      <td>5.175781</td>\n",
       "      <td>-7.695312</td>\n",
       "      <td>9.765625</td>\n",
       "      <td>4.890625</td>\n",
       "      <td>12.218750</td>\n",
       "      <td>11.851562</td>\n",
       "      <td>-7.894531</td>\n",
       "      <td>6.421875</td>\n",
       "      <td>5.925781</td>\n",
       "      <td>16.015625</td>\n",
       "      <td>-0.282959</td>\n",
       "      <td>-1.490234</td>\n",
       "      <td>9.523438</td>\n",
       "      <td>-0.150757</td>\n",
       "      <td>9.195312</td>\n",
       "      <td>13.289062</td>\n",
       "      <td>-1.511719</td>\n",
       "      <td>3.925781</td>\n",
       "      <td>9.500000</td>\n",
       "      <td>18.000000</td>\n",
       "      <td>-8.812500</td>\n",
       "    </tr>\n",
       "  </tbody>\n",
       "</table>\n",
       "<p>5 rows × 202 columns</p>\n",
       "</div>"
      ],
      "text/plain": [
       "   ID_code  target      var_0  ...    var_197    var_198   var_199\n",
       "0  train_0       0   8.921875  ...   8.562500  12.781250 -1.091797\n",
       "1  train_1       0  11.500000  ...   8.789062  18.359375  1.952148\n",
       "2  train_2       0   8.609375  ...   8.265625  14.718750  0.396484\n",
       "3  train_3       0  11.062500  ...  10.289062  17.968750 -9.000000\n",
       "4  train_4       0   9.835938  ...   9.500000  18.000000 -8.812500\n",
       "\n",
       "[5 rows x 202 columns]"
      ]
     },
     "execution_count": 6,
     "metadata": {
      "tags": []
     },
     "output_type": "execute_result"
    }
   ],
   "source": [
    "data.head()"
   ]
  },
  {
   "cell_type": "code",
   "execution_count": null,
   "metadata": {
    "colab": {
     "base_uri": "https://localhost:8080/",
     "height": 253
    },
    "id": "dNwXeut5ohTM",
    "outputId": "c6d48053-62d5-4ac0-b72d-5206d6c296b8"
   },
   "outputs": [
    {
     "data": {
      "text/html": [
       "<div>\n",
       "<style scoped>\n",
       "    .dataframe tbody tr th:only-of-type {\n",
       "        vertical-align: middle;\n",
       "    }\n",
       "\n",
       "    .dataframe tbody tr th {\n",
       "        vertical-align: top;\n",
       "    }\n",
       "\n",
       "    .dataframe thead th {\n",
       "        text-align: right;\n",
       "    }\n",
       "</style>\n",
       "<table border=\"1\" class=\"dataframe\">\n",
       "  <thead>\n",
       "    <tr style=\"text-align: right;\">\n",
       "      <th></th>\n",
       "      <th>ID_code</th>\n",
       "      <th>var_0</th>\n",
       "      <th>var_1</th>\n",
       "      <th>var_2</th>\n",
       "      <th>var_3</th>\n",
       "      <th>var_4</th>\n",
       "      <th>var_5</th>\n",
       "      <th>var_6</th>\n",
       "      <th>var_7</th>\n",
       "      <th>var_8</th>\n",
       "      <th>var_9</th>\n",
       "      <th>var_10</th>\n",
       "      <th>var_11</th>\n",
       "      <th>var_12</th>\n",
       "      <th>var_13</th>\n",
       "      <th>var_14</th>\n",
       "      <th>var_15</th>\n",
       "      <th>var_16</th>\n",
       "      <th>var_17</th>\n",
       "      <th>var_18</th>\n",
       "      <th>var_19</th>\n",
       "      <th>var_20</th>\n",
       "      <th>var_21</th>\n",
       "      <th>var_22</th>\n",
       "      <th>var_23</th>\n",
       "      <th>var_24</th>\n",
       "      <th>var_25</th>\n",
       "      <th>var_26</th>\n",
       "      <th>var_27</th>\n",
       "      <th>var_28</th>\n",
       "      <th>var_29</th>\n",
       "      <th>var_30</th>\n",
       "      <th>var_31</th>\n",
       "      <th>var_32</th>\n",
       "      <th>var_33</th>\n",
       "      <th>var_34</th>\n",
       "      <th>var_35</th>\n",
       "      <th>var_36</th>\n",
       "      <th>var_37</th>\n",
       "      <th>var_38</th>\n",
       "      <th>...</th>\n",
       "      <th>var_160</th>\n",
       "      <th>var_161</th>\n",
       "      <th>var_162</th>\n",
       "      <th>var_163</th>\n",
       "      <th>var_164</th>\n",
       "      <th>var_165</th>\n",
       "      <th>var_166</th>\n",
       "      <th>var_167</th>\n",
       "      <th>var_168</th>\n",
       "      <th>var_169</th>\n",
       "      <th>var_170</th>\n",
       "      <th>var_171</th>\n",
       "      <th>var_172</th>\n",
       "      <th>var_173</th>\n",
       "      <th>var_174</th>\n",
       "      <th>var_175</th>\n",
       "      <th>var_176</th>\n",
       "      <th>var_177</th>\n",
       "      <th>var_178</th>\n",
       "      <th>var_179</th>\n",
       "      <th>var_180</th>\n",
       "      <th>var_181</th>\n",
       "      <th>var_182</th>\n",
       "      <th>var_183</th>\n",
       "      <th>var_184</th>\n",
       "      <th>var_185</th>\n",
       "      <th>var_186</th>\n",
       "      <th>var_187</th>\n",
       "      <th>var_188</th>\n",
       "      <th>var_189</th>\n",
       "      <th>var_190</th>\n",
       "      <th>var_191</th>\n",
       "      <th>var_192</th>\n",
       "      <th>var_193</th>\n",
       "      <th>var_194</th>\n",
       "      <th>var_195</th>\n",
       "      <th>var_196</th>\n",
       "      <th>var_197</th>\n",
       "      <th>var_198</th>\n",
       "      <th>var_199</th>\n",
       "    </tr>\n",
       "  </thead>\n",
       "  <tbody>\n",
       "    <tr>\n",
       "      <th>0</th>\n",
       "      <td>test_0</td>\n",
       "      <td>11.062500</td>\n",
       "      <td>7.781250</td>\n",
       "      <td>12.953125</td>\n",
       "      <td>9.429688</td>\n",
       "      <td>11.429688</td>\n",
       "      <td>-2.380859</td>\n",
       "      <td>5.847656</td>\n",
       "      <td>18.265625</td>\n",
       "      <td>2.132812</td>\n",
       "      <td>8.812500</td>\n",
       "      <td>-2.025391</td>\n",
       "      <td>-4.355469</td>\n",
       "      <td>13.968750</td>\n",
       "      <td>0.345703</td>\n",
       "      <td>7.539062</td>\n",
       "      <td>14.500000</td>\n",
       "      <td>7.703125</td>\n",
       "      <td>-19.093750</td>\n",
       "      <td>15.578125</td>\n",
       "      <td>16.171875</td>\n",
       "      <td>3.708984</td>\n",
       "      <td>18.812500</td>\n",
       "      <td>1.589844</td>\n",
       "      <td>3.064453</td>\n",
       "      <td>6.449219</td>\n",
       "      <td>14.117188</td>\n",
       "      <td>-9.492188</td>\n",
       "      <td>-2.191406</td>\n",
       "      <td>5.710938</td>\n",
       "      <td>3.787109</td>\n",
       "      <td>-1.797852</td>\n",
       "      <td>9.265625</td>\n",
       "      <td>2.066406</td>\n",
       "      <td>12.773438</td>\n",
       "      <td>11.335938</td>\n",
       "      <td>8.148438</td>\n",
       "      <td>-0.061005</td>\n",
       "      <td>3.533203</td>\n",
       "      <td>9.781250</td>\n",
       "      <td>...</td>\n",
       "      <td>5.921875</td>\n",
       "      <td>5.410156</td>\n",
       "      <td>3.830078</td>\n",
       "      <td>5.738281</td>\n",
       "      <td>-8.609375</td>\n",
       "      <td>22.953125</td>\n",
       "      <td>2.552734</td>\n",
       "      <td>-0.283691</td>\n",
       "      <td>4.339844</td>\n",
       "      <td>5.183594</td>\n",
       "      <td>4.261719</td>\n",
       "      <td>1.677734</td>\n",
       "      <td>29.078125</td>\n",
       "      <td>8.468750</td>\n",
       "      <td>18.125000</td>\n",
       "      <td>12.281250</td>\n",
       "      <td>-0.691406</td>\n",
       "      <td>10.218750</td>\n",
       "      <td>-5.558594</td>\n",
       "      <td>2.292969</td>\n",
       "      <td>-4.535156</td>\n",
       "      <td>10.390625</td>\n",
       "      <td>-15.492188</td>\n",
       "      <td>3.968750</td>\n",
       "      <td>31.359375</td>\n",
       "      <td>-1.165039</td>\n",
       "      <td>9.289062</td>\n",
       "      <td>-23.578125</td>\n",
       "      <td>13.265625</td>\n",
       "      <td>1.659180</td>\n",
       "      <td>-2.156250</td>\n",
       "      <td>11.851562</td>\n",
       "      <td>-1.429688</td>\n",
       "      <td>2.451172</td>\n",
       "      <td>13.710938</td>\n",
       "      <td>2.466797</td>\n",
       "      <td>4.367188</td>\n",
       "      <td>10.718750</td>\n",
       "      <td>15.468750</td>\n",
       "      <td>-8.718750</td>\n",
       "    </tr>\n",
       "    <tr>\n",
       "      <th>1</th>\n",
       "      <td>test_1</td>\n",
       "      <td>8.531250</td>\n",
       "      <td>1.253906</td>\n",
       "      <td>11.304688</td>\n",
       "      <td>5.187500</td>\n",
       "      <td>9.195312</td>\n",
       "      <td>-4.011719</td>\n",
       "      <td>6.019531</td>\n",
       "      <td>18.625000</td>\n",
       "      <td>-4.414062</td>\n",
       "      <td>5.972656</td>\n",
       "      <td>-1.380859</td>\n",
       "      <td>-0.331055</td>\n",
       "      <td>14.109375</td>\n",
       "      <td>2.566406</td>\n",
       "      <td>5.500000</td>\n",
       "      <td>14.187500</td>\n",
       "      <td>7.019531</td>\n",
       "      <td>4.656250</td>\n",
       "      <td>29.156250</td>\n",
       "      <td>0.091003</td>\n",
       "      <td>12.148438</td>\n",
       "      <td>3.138672</td>\n",
       "      <td>5.257812</td>\n",
       "      <td>2.421875</td>\n",
       "      <td>16.203125</td>\n",
       "      <td>13.500000</td>\n",
       "      <td>-5.234375</td>\n",
       "      <td>-3.664062</td>\n",
       "      <td>5.707031</td>\n",
       "      <td>2.996094</td>\n",
       "      <td>-10.468750</td>\n",
       "      <td>11.492188</td>\n",
       "      <td>-0.965820</td>\n",
       "      <td>15.343750</td>\n",
       "      <td>10.632812</td>\n",
       "      <td>0.896484</td>\n",
       "      <td>6.742188</td>\n",
       "      <td>2.341797</td>\n",
       "      <td>12.867188</td>\n",
       "      <td>...</td>\n",
       "      <td>30.968750</td>\n",
       "      <td>5.671875</td>\n",
       "      <td>3.687500</td>\n",
       "      <td>13.039062</td>\n",
       "      <td>-10.656250</td>\n",
       "      <td>15.515625</td>\n",
       "      <td>3.218750</td>\n",
       "      <td>9.054688</td>\n",
       "      <td>7.054688</td>\n",
       "      <td>5.390625</td>\n",
       "      <td>-0.771973</td>\n",
       "      <td>-8.179688</td>\n",
       "      <td>29.921875</td>\n",
       "      <td>-5.628906</td>\n",
       "      <td>10.500000</td>\n",
       "      <td>9.609375</td>\n",
       "      <td>-0.493408</td>\n",
       "      <td>8.171875</td>\n",
       "      <td>-4.359375</td>\n",
       "      <td>5.210938</td>\n",
       "      <td>0.408691</td>\n",
       "      <td>12.000000</td>\n",
       "      <td>-10.382812</td>\n",
       "      <td>5.847656</td>\n",
       "      <td>25.203125</td>\n",
       "      <td>-8.843750</td>\n",
       "      <td>11.828125</td>\n",
       "      <td>-8.710938</td>\n",
       "      <td>15.906250</td>\n",
       "      <td>0.980957</td>\n",
       "      <td>10.617188</td>\n",
       "      <td>8.835938</td>\n",
       "      <td>0.940430</td>\n",
       "      <td>10.125000</td>\n",
       "      <td>15.578125</td>\n",
       "      <td>0.477295</td>\n",
       "      <td>-1.485352</td>\n",
       "      <td>9.875000</td>\n",
       "      <td>19.125000</td>\n",
       "      <td>-20.968750</td>\n",
       "    </tr>\n",
       "    <tr>\n",
       "      <th>2</th>\n",
       "      <td>test_2</td>\n",
       "      <td>5.484375</td>\n",
       "      <td>-10.359375</td>\n",
       "      <td>10.140625</td>\n",
       "      <td>7.046875</td>\n",
       "      <td>10.265625</td>\n",
       "      <td>9.804688</td>\n",
       "      <td>4.894531</td>\n",
       "      <td>20.250000</td>\n",
       "      <td>1.523438</td>\n",
       "      <td>8.343750</td>\n",
       "      <td>-4.707031</td>\n",
       "      <td>-3.042969</td>\n",
       "      <td>13.671875</td>\n",
       "      <td>3.818359</td>\n",
       "      <td>10.851562</td>\n",
       "      <td>14.210938</td>\n",
       "      <td>9.882812</td>\n",
       "      <td>2.654297</td>\n",
       "      <td>21.218750</td>\n",
       "      <td>20.812500</td>\n",
       "      <td>12.468750</td>\n",
       "      <td>12.367188</td>\n",
       "      <td>4.746094</td>\n",
       "      <td>2.792969</td>\n",
       "      <td>5.218750</td>\n",
       "      <td>13.570312</td>\n",
       "      <td>-15.421875</td>\n",
       "      <td>-0.165527</td>\n",
       "      <td>7.261719</td>\n",
       "      <td>3.431641</td>\n",
       "      <td>-9.148438</td>\n",
       "      <td>9.734375</td>\n",
       "      <td>3.105469</td>\n",
       "      <td>22.312500</td>\n",
       "      <td>11.960938</td>\n",
       "      <td>9.921875</td>\n",
       "      <td>4.070312</td>\n",
       "      <td>4.992188</td>\n",
       "      <td>8.070312</td>\n",
       "      <td>...</td>\n",
       "      <td>39.375000</td>\n",
       "      <td>5.523438</td>\n",
       "      <td>3.316406</td>\n",
       "      <td>4.332031</td>\n",
       "      <td>-0.538086</td>\n",
       "      <td>13.304688</td>\n",
       "      <td>3.125000</td>\n",
       "      <td>-4.171875</td>\n",
       "      <td>1.233398</td>\n",
       "      <td>6.152344</td>\n",
       "      <td>-0.039093</td>\n",
       "      <td>1.495117</td>\n",
       "      <td>16.890625</td>\n",
       "      <td>-2.978516</td>\n",
       "      <td>27.406250</td>\n",
       "      <td>15.882812</td>\n",
       "      <td>-10.968750</td>\n",
       "      <td>15.640625</td>\n",
       "      <td>-9.406250</td>\n",
       "      <td>4.460938</td>\n",
       "      <td>-3.083984</td>\n",
       "      <td>8.554688</td>\n",
       "      <td>-2.851562</td>\n",
       "      <td>13.476562</td>\n",
       "      <td>24.468750</td>\n",
       "      <td>-3.482422</td>\n",
       "      <td>4.917969</td>\n",
       "      <td>-2.072266</td>\n",
       "      <td>11.539062</td>\n",
       "      <td>1.181641</td>\n",
       "      <td>-0.748535</td>\n",
       "      <td>10.992188</td>\n",
       "      <td>1.980469</td>\n",
       "      <td>2.179688</td>\n",
       "      <td>12.984375</td>\n",
       "      <td>2.128906</td>\n",
       "      <td>-7.109375</td>\n",
       "      <td>7.062500</td>\n",
       "      <td>19.890625</td>\n",
       "      <td>-23.171875</td>\n",
       "    </tr>\n",
       "    <tr>\n",
       "      <th>3</th>\n",
       "      <td>test_3</td>\n",
       "      <td>8.539062</td>\n",
       "      <td>-1.322266</td>\n",
       "      <td>12.023438</td>\n",
       "      <td>6.574219</td>\n",
       "      <td>8.843750</td>\n",
       "      <td>3.173828</td>\n",
       "      <td>4.941406</td>\n",
       "      <td>20.562500</td>\n",
       "      <td>3.375000</td>\n",
       "      <td>7.457031</td>\n",
       "      <td>0.009499</td>\n",
       "      <td>-5.066406</td>\n",
       "      <td>14.054688</td>\n",
       "      <td>13.500000</td>\n",
       "      <td>8.765625</td>\n",
       "      <td>14.734375</td>\n",
       "      <td>10.039062</td>\n",
       "      <td>-15.351562</td>\n",
       "      <td>2.126953</td>\n",
       "      <td>21.484375</td>\n",
       "      <td>14.539062</td>\n",
       "      <td>12.554688</td>\n",
       "      <td>2.970703</td>\n",
       "      <td>4.238281</td>\n",
       "      <td>13.781250</td>\n",
       "      <td>14.140625</td>\n",
       "      <td>1.005859</td>\n",
       "      <td>-1.347656</td>\n",
       "      <td>5.257812</td>\n",
       "      <td>6.589844</td>\n",
       "      <td>6.214844</td>\n",
       "      <td>9.554688</td>\n",
       "      <td>2.363281</td>\n",
       "      <td>10.210938</td>\n",
       "      <td>10.804688</td>\n",
       "      <td>-2.558594</td>\n",
       "      <td>6.070312</td>\n",
       "      <td>3.261719</td>\n",
       "      <td>16.562500</td>\n",
       "      <td>...</td>\n",
       "      <td>19.718750</td>\n",
       "      <td>5.386719</td>\n",
       "      <td>3.677734</td>\n",
       "      <td>7.476562</td>\n",
       "      <td>-11.078125</td>\n",
       "      <td>24.875000</td>\n",
       "      <td>2.640625</td>\n",
       "      <td>2.267578</td>\n",
       "      <td>7.277344</td>\n",
       "      <td>5.640625</td>\n",
       "      <td>7.203125</td>\n",
       "      <td>3.451172</td>\n",
       "      <td>2.412109</td>\n",
       "      <td>11.164062</td>\n",
       "      <td>14.546875</td>\n",
       "      <td>10.617188</td>\n",
       "      <td>-5.792969</td>\n",
       "      <td>13.937500</td>\n",
       "      <td>7.109375</td>\n",
       "      <td>1.101562</td>\n",
       "      <td>9.460938</td>\n",
       "      <td>9.828125</td>\n",
       "      <td>5.992188</td>\n",
       "      <td>5.164062</td>\n",
       "      <td>8.117188</td>\n",
       "      <td>3.664062</td>\n",
       "      <td>3.310547</td>\n",
       "      <td>-19.781250</td>\n",
       "      <td>13.453125</td>\n",
       "      <td>1.310547</td>\n",
       "      <td>9.570312</td>\n",
       "      <td>9.078125</td>\n",
       "      <td>1.658203</td>\n",
       "      <td>3.582031</td>\n",
       "      <td>15.187500</td>\n",
       "      <td>3.166016</td>\n",
       "      <td>3.957031</td>\n",
       "      <td>9.226562</td>\n",
       "      <td>13.015625</td>\n",
       "      <td>-4.210938</td>\n",
       "    </tr>\n",
       "    <tr>\n",
       "      <th>4</th>\n",
       "      <td>test_4</td>\n",
       "      <td>11.703125</td>\n",
       "      <td>-0.132690</td>\n",
       "      <td>14.132812</td>\n",
       "      <td>7.750000</td>\n",
       "      <td>9.101562</td>\n",
       "      <td>-8.585938</td>\n",
       "      <td>6.859375</td>\n",
       "      <td>10.601562</td>\n",
       "      <td>2.988281</td>\n",
       "      <td>7.144531</td>\n",
       "      <td>5.101562</td>\n",
       "      <td>-3.283203</td>\n",
       "      <td>14.101562</td>\n",
       "      <td>8.968750</td>\n",
       "      <td>4.726562</td>\n",
       "      <td>14.578125</td>\n",
       "      <td>11.859375</td>\n",
       "      <td>3.148438</td>\n",
       "      <td>18.015625</td>\n",
       "      <td>13.796875</td>\n",
       "      <td>1.602539</td>\n",
       "      <td>16.312500</td>\n",
       "      <td>6.796875</td>\n",
       "      <td>3.601562</td>\n",
       "      <td>13.656250</td>\n",
       "      <td>13.882812</td>\n",
       "      <td>8.625000</td>\n",
       "      <td>-2.265625</td>\n",
       "      <td>5.226562</td>\n",
       "      <td>7.015625</td>\n",
       "      <td>-15.695312</td>\n",
       "      <td>10.625000</td>\n",
       "      <td>-4.765625</td>\n",
       "      <td>17.546875</td>\n",
       "      <td>11.867188</td>\n",
       "      <td>3.015625</td>\n",
       "      <td>4.253906</td>\n",
       "      <td>6.761719</td>\n",
       "      <td>5.960938</td>\n",
       "      <td>...</td>\n",
       "      <td>22.875000</td>\n",
       "      <td>5.667969</td>\n",
       "      <td>6.117188</td>\n",
       "      <td>13.242188</td>\n",
       "      <td>-11.976562</td>\n",
       "      <td>26.203125</td>\n",
       "      <td>3.234375</td>\n",
       "      <td>-5.578125</td>\n",
       "      <td>5.703125</td>\n",
       "      <td>6.171875</td>\n",
       "      <td>-1.603516</td>\n",
       "      <td>-2.486328</td>\n",
       "      <td>17.265625</td>\n",
       "      <td>2.363281</td>\n",
       "      <td>14.000000</td>\n",
       "      <td>12.914062</td>\n",
       "      <td>-12.031250</td>\n",
       "      <td>10.117188</td>\n",
       "      <td>-8.757812</td>\n",
       "      <td>6.089844</td>\n",
       "      <td>-1.362305</td>\n",
       "      <td>10.359375</td>\n",
       "      <td>-7.492188</td>\n",
       "      <td>9.460938</td>\n",
       "      <td>3.982422</td>\n",
       "      <td>5.859375</td>\n",
       "      <td>8.367188</td>\n",
       "      <td>-24.828125</td>\n",
       "      <td>11.492188</td>\n",
       "      <td>1.631836</td>\n",
       "      <td>4.226562</td>\n",
       "      <td>9.171875</td>\n",
       "      <td>1.283203</td>\n",
       "      <td>3.376953</td>\n",
       "      <td>19.546875</td>\n",
       "      <td>-0.285889</td>\n",
       "      <td>-5.160156</td>\n",
       "      <td>7.289062</td>\n",
       "      <td>13.929688</td>\n",
       "      <td>-9.187500</td>\n",
       "    </tr>\n",
       "  </tbody>\n",
       "</table>\n",
       "<p>5 rows × 201 columns</p>\n",
       "</div>"
      ],
      "text/plain": [
       "  ID_code      var_0      var_1  ...    var_197    var_198    var_199\n",
       "0  test_0  11.062500   7.781250  ...  10.718750  15.468750  -8.718750\n",
       "1  test_1   8.531250   1.253906  ...   9.875000  19.125000 -20.968750\n",
       "2  test_2   5.484375 -10.359375  ...   7.062500  19.890625 -23.171875\n",
       "3  test_3   8.539062  -1.322266  ...   9.226562  13.015625  -4.210938\n",
       "4  test_4  11.703125  -0.132690  ...   7.289062  13.929688  -9.187500\n",
       "\n",
       "[5 rows x 201 columns]"
      ]
     },
     "execution_count": 8,
     "metadata": {
      "tags": []
     },
     "output_type": "execute_result"
    }
   ],
   "source": [
    "test.head()"
   ]
  },
  {
   "cell_type": "code",
   "execution_count": null,
   "metadata": {
    "id": "pFlzIC4TmPLJ"
   },
   "outputs": [],
   "source": [
    "train_df=data\n",
    "test_df=test"
   ]
  },
  {
   "cell_type": "code",
   "execution_count": null,
   "metadata": {
    "id": "DGFglDjgmKt0"
   },
   "outputs": [],
   "source": [
    "import matplotlib.pyplot as plt\n",
    "import seaborn as sns\n"
   ]
  },
  {
   "cell_type": "markdown",
   "metadata": {
    "id": "YWxcEcD56p5T"
   },
   "source": [
    "### Distribution of mean and variance"
   ]
  },
  {
   "cell_type": "code",
   "execution_count": null,
   "metadata": {
    "colab": {
     "base_uri": "https://localhost:8080/",
     "height": 410
    },
    "id": "uXNzIOnnmA6d",
    "outputId": "290fc581-5f96-4edc-8c54-aae70650c931"
   },
   "outputs": [
    {
     "data": {
      "image/png": "[encoded data removed]",
      "text/plain": [
       "<Figure size 1152x432 with 1 Axes>"
      ]
     },
     "metadata": {
      "tags": []
     },
     "output_type": "display_data"
    }
   ],
   "source": [
    "plt.figure(figsize=(16,6))\n",
    "features = train_df.columns.values[2:202]\n",
    "plt.title(\"Distribution of mean values per row in the train and test set\")\n",
    "sns.distplot(train_df[features].mean(axis=1),color=\"green\", kde=True,bins=120, label='train')\n",
    "sns.distplot(test_df[features].mean(axis=1),color=\"blue\", kde=True,bins=120, label='test')\n",
    "plt.legend()\n",
    "plt.show()"
   ]
  },
  {
   "cell_type": "code",
   "execution_count": null,
   "metadata": {
    "colab": {
     "base_uri": "https://localhost:8080/",
     "height": 410
    },
    "id": "bk40h57epDnt",
    "outputId": "8fbd15f7-4ba0-4b7d-e02b-a3f723add43f"
   },
   "outputs": [
    {
     "data": {
      "image/png": "[encoded data removed]",
      "text/plain": [
       "<Figure size 1152x432 with 1 Axes>"
      ]
     },
     "metadata": {
      "tags": []
     },
     "output_type": "display_data"
    }
   ],
   "source": [
    "plt.figure(figsize=(16,6))\n",
    "plt.title(\"Distribution of variance values per row in the train and test set\")\n",
    "sns.distplot(train_df[features].var(axis=1),color=\"black\", kde=True,bins=120, label='train')\n",
    "sns.distplot(test_df[features].var(axis=1),color=\"red\", kde=True,bins=120, label='test')\n",
    "plt.legend();plt.show()"
   ]
  },
  {
   "cell_type": "markdown",
   "metadata": {
    "id": "vmvGhwEM64Pw"
   },
   "source": [
    "### Distribution of skewness"
   ]
  },
  {
   "cell_type": "code",
   "execution_count": null,
   "metadata": {
    "colab": {
     "base_uri": "https://localhost:8080/",
     "height": 410
    },
    "id": "fNVnPrrR1D0A",
    "outputId": "65e14c4a-4c22-4f34-da5b-eca1d95d0659"
   },
   "outputs": [
    {
     "data": {
      "image/png": "[encoded data removed]",
      "text/plain": [
       "<Figure size 1152x432 with 1 Axes>"
      ]
     },
     "metadata": {
      "tags": []
     },
     "output_type": "display_data"
    }
   ],
   "source": [
    "t0 = train_df.loc[train_df['target'] == 0]\n",
    "t1 = train_df.loc[train_df['target'] == 1]\n",
    "plt.figure(figsize=(16,6))\n",
    "plt.title(\"Distribution of skew values per row in the train set\")\n",
    "sns.distplot(t0[features].skew(axis=1),color=\"red\", kde=True,bins=120, label='target = 0')\n",
    "sns.distplot(t1[features].skew(axis=1),color=\"blue\", kde=True,bins=120, label='target = 1')\n",
    "plt.legend(); plt.show()"
   ]
  },
  {
   "cell_type": "markdown",
   "metadata": {
    "id": "NpbNgk7J6J6C"
   },
   "source": [
    "### Distribution of min and max#\n"
   ]
  },
  {
   "cell_type": "code",
   "execution_count": null,
   "metadata": {
    "colab": {
     "base_uri": "https://localhost:8080/",
     "height": 410
    },
    "id": "IKJ9ATIc6Tyb",
    "outputId": "c9ec16e6-0ae1-4178-b8db-380fa2342b19"
   },
   "outputs": [
    {
     "data": {
      "image/png": "[encoded data removed]",
      "text/plain": [
       "<Figure size 1152x432 with 1 Axes>"
      ]
     },
     "metadata": {
      "tags": []
     },
     "output_type": "display_data"
    }
   ],
   "source": [
    "plt.figure(figsize=(16,6))\n",
    "features = train_df.columns.values[2:202]\n",
    "plt.title(\"Distribution of min values per row in the train and test set\")\n",
    "sns.distplot(train_df[features].min(axis=1),color=\"red\", kde=True,bins=120, label='train')\n",
    "sns.distplot(test_df[features].min(axis=1),color=\"orange\", kde=True,bins=120, label='test')\n",
    "plt.legend()\n",
    "plt.show()"
   ]
  },
  {
   "cell_type": "code",
   "execution_count": null,
   "metadata": {
    "colab": {
     "base_uri": "https://localhost:8080/",
     "height": 410
    },
    "id": "Ta7-ikSr6Yti",
    "outputId": "1f9f4430-0307-44e3-bf90-e4c4915dfdd9"
   },
   "outputs": [
    {
     "data": {
      "image/png": "[encoded data removed]",
      "text/plain": [
       "<Figure size 1152x432 with 1 Axes>"
      ]
     },
     "metadata": {
      "tags": []
     },
     "output_type": "display_data"
    }
   ],
   "source": [
    "plt.figure(figsize=(16,6))\n",
    "features = train_df.columns.values[2:202]\n",
    "plt.title(\"Distribution of min values per column in the train and test set\")\n",
    "sns.distplot(train_df[features].min(axis=0),color=\"magenta\", kde=True,bins=120, label='train')\n",
    "sns.distplot(test_df[features].min(axis=0),color=\"darkblue\", kde=True,bins=120, label='test')\n",
    "plt.legend()\n",
    "plt.show()"
   ]
  },
  {
   "cell_type": "code",
   "execution_count": null,
   "metadata": {
    "colab": {
     "base_uri": "https://localhost:8080/",
     "height": 410
    },
    "id": "uHdRhTXI7FvC",
    "outputId": "8503bdec-2aea-494e-c361-b3b2f382e1d6"
   },
   "outputs": [
    {
     "data": {
      "image/png": "[encoded data removed]",
      "text/plain": [
       "<Figure size 1152x432 with 1 Axes>"
      ]
     },
     "metadata": {
      "tags": []
     },
     "output_type": "display_data"
    }
   ],
   "source": [
    "plt.figure(figsize=(16,6))\n",
    "features = train_df.columns.values[2:202]\n",
    "plt.title(\"Distribution of max values per row in the train and test set\")\n",
    "sns.distplot(train_df[features].max(axis=1),color=\"brown\", kde=True,bins=120, label='train')\n",
    "sns.distplot(test_df[features].max(axis=1),color=\"yellow\", kde=True,bins=120, label='test')\n",
    "plt.legend()\n",
    "plt.show()"
   ]
  },
  {
   "cell_type": "code",
   "execution_count": null,
   "metadata": {
    "colab": {
     "base_uri": "https://localhost:8080/",
     "height": 410
    },
    "id": "8QmJ1FN_7TVQ",
    "outputId": "1206c7bb-41b0-4eb5-e160-22a7ed1c559b"
   },
   "outputs": [
    {
     "data": {
      "image/png": "[encoded data removed]",
      "text/plain": [
       "<Figure size 1152x432 with 1 Axes>"
      ]
     },
     "metadata": {
      "tags": []
     },
     "output_type": "display_data"
    }
   ],
   "source": [
    "plt.figure(figsize=(16,6))\n",
    "features = train_df.columns.values[2:202]\n",
    "plt.title(\"Distribution of max values per column in the train and test set\")\n",
    "sns.distplot(train_df[features].max(axis=0),color=\"blue\", kde=True,bins=120, label='train')\n",
    "sns.distplot(test_df[features].max(axis=0),color=\"red\", kde=True,bins=120, label='test')\n",
    "plt.legend()\n",
    "plt.show()\n"
   ]
  },
  {
   "cell_type": "code",
   "execution_count": null,
   "metadata": {
    "colab": {
     "base_uri": "https://localhost:8080/",
     "height": 410
    },
    "id": "m7D9KfpW7UDu",
    "outputId": "daae1fd3-7c61-4a73-deb6-5c9b74a47125",
    "scrolled": false
   },
   "outputs": [
    {
     "data": {
      "image/png": "[encoded data removed]",
      "text/plain": [
       "<Figure size 1152x432 with 1 Axes>"
      ]
     },
     "metadata": {
      "tags": []
     },
     "output_type": "display_data"
    }
   ],
   "source": [
    "t0 = train_df.loc[train_df['target'] == 0]\n",
    "t1 = train_df.loc[train_df['target'] == 1]\n",
    "plt.figure(figsize=(16,6))\n",
    "plt.title(\"Distribution of min values per row in the train set\")\n",
    "sns.distplot(t0[features].min(axis=1),color=\"orange\", kde=True,bins=120, label='target = 0')\n",
    "sns.distplot(t1[features].min(axis=1),color=\"darkblue\", kde=True,bins=120, label='target = 1')\n",
    "plt.legend(); plt.show()"
   ]
  },
  {
   "cell_type": "markdown",
   "metadata": {},
   "source": [
    "### We observe that there is a class imbalance in the data"
   ]
  },
  {
   "cell_type": "code",
   "execution_count": null,
   "metadata": {
    "colab": {
     "base_uri": "https://localhost:8080/",
     "height": 300
    },
    "id": "luGnPlVGUKv9",
    "outputId": "2fa0b51f-895f-4e7e-ce49-1ad9948d61d5"
   },
   "outputs": [
    {
     "data": {
      "text/plain": [
       "<matplotlib.axes._subplots.AxesSubplot at 0x7f7e84675080>"
      ]
     },
     "execution_count": 10,
     "metadata": {
      "tags": []
     },
     "output_type": "execute_result"
    },
    {
     "data": {
      "image/png": "[encoded data removed]",
      "text/plain": [
       "<Figure size 432x288 with 1 Axes>"
      ]
     },
     "metadata": {
      "tags": []
     },
     "output_type": "display_data"
    }
   ],
   "source": [
    "sns.countplot(data['target'])"
   ]
  },
  {
   "cell_type": "code",
   "execution_count": null,
   "metadata": {
    "id": "7eIM0-Pk73A5"
   },
   "outputs": [],
   "source": [
    "idx = features = train_df.columns.values[2:202]\n",
    "for df in [test_df, train_df]:\n",
    "    df['sum'] = df[idx].sum(axis=1)  \n",
    "    df['min'] = df[idx].min(axis=1)\n",
    "    df['max'] = df[idx].max(axis=1)\n",
    "    df['mean'] = df[idx].mean(axis=1)\n",
    "    df['std'] = df[idx].std(axis=1)\n",
    "    df['skew'] = df[idx].skew(axis=1)\n",
    "   "
   ]
  },
  {
   "cell_type": "code",
   "execution_count": null,
   "metadata": {
    "id": "JV0ldzp3-3Ms"
   },
   "outputs": [],
   "source": [
    "def plot_new_feature_distribution(df1, df2, label1, label2, features):\n",
    "    i = 0\n",
    "    sns.set_style('whitegrid')\n",
    "    plt.figure()\n",
    "    fig, ax = plt.subplots(2,3,figsize=(18,8))\n",
    "\n",
    "    for feature in features:\n",
    "        i += 1\n",
    "        if(i<7):\n",
    "          plt.subplot(2,3,i)\n",
    "          sns.kdeplot(df1[feature], bw=0.5,label=label1)\n",
    "          sns.kdeplot(df2[feature], bw=0.5,label=label2)\n",
    "          plt.xlabel(feature, fontsize=11)\n",
    "          locs, labels = plt.xticks()\n",
    "          plt.tick_params(axis='x', which='major', labelsize=8)\n",
    "          plt.tick_params(axis='y', which='major', labelsize=8)\n",
    "    plt.show();"
   ]
  },
  {
   "cell_type": "code",
   "execution_count": null,
   "metadata": {
    "colab": {
     "base_uri": "https://localhost:8080/",
     "height": 536
    },
    "id": "O-zFNxnv-KBV",
    "outputId": "f7a77a9f-e857-4437-c09a-234246e30b2e"
   },
   "outputs": [
    {
     "data": {
      "text/plain": [
       "<Figure size 432x288 with 0 Axes>"
      ]
     },
     "metadata": {
      "tags": []
     },
     "output_type": "display_data"
    },
    {
     "data": {
      "image/png": "[encoded data removed]",
      "text/plain": [
       "<Figure size 1296x576 with 6 Axes>"
      ]
     },
     "metadata": {
      "tags": []
     },
     "output_type": "display_data"
    }
   ],
   "source": [
    "t0 = train_df.loc[train_df['target'] == 0]\n",
    "t1 = train_df.loc[train_df['target'] == 1]\n",
    "features = train_df.columns.values[202:]\n",
    "plot_new_feature_distribution(t0, t1, 'target: 0', 'target: 1', features)"
   ]
  },
  {
   "cell_type": "markdown",
   "metadata": {
    "id": "HbXnUw6thH8B"
   },
   "source": [
    "### Before Feature Engineering Correlation matrix"
   ]
  },
  {
   "cell_type": "code",
   "execution_count": null,
   "metadata": {
    "colab": {
     "base_uri": "https://localhost:8080/",
     "height": 359
    },
    "id": "wjDKJ_KLHJub",
    "outputId": "77c457c2-07e9-4866-8293-2175fe9a21c2"
   },
   "outputs": [
    {
     "data": {
      "text/html": [
       "<div>\n",
       "<style scoped>\n",
       "    .dataframe tbody tr th:only-of-type {\n",
       "        vertical-align: middle;\n",
       "    }\n",
       "\n",
       "    .dataframe tbody tr th {\n",
       "        vertical-align: top;\n",
       "    }\n",
       "\n",
       "    .dataframe thead th {\n",
       "        text-align: right;\n",
       "    }\n",
       "</style>\n",
       "<table border=\"1\" class=\"dataframe\">\n",
       "  <thead>\n",
       "    <tr style=\"text-align: right;\">\n",
       "      <th></th>\n",
       "      <th>level_0</th>\n",
       "      <th>level_1</th>\n",
       "      <th>0</th>\n",
       "    </tr>\n",
       "  </thead>\n",
       "  <tbody>\n",
       "    <tr>\n",
       "      <th>0</th>\n",
       "      <td>var_139</td>\n",
       "      <td>var_26</td>\n",
       "      <td>-0.009844</td>\n",
       "    </tr>\n",
       "    <tr>\n",
       "      <th>1</th>\n",
       "      <td>var_26</td>\n",
       "      <td>var_139</td>\n",
       "      <td>-0.009844</td>\n",
       "    </tr>\n",
       "    <tr>\n",
       "      <th>2</th>\n",
       "      <td>var_148</td>\n",
       "      <td>var_53</td>\n",
       "      <td>-0.009784</td>\n",
       "    </tr>\n",
       "    <tr>\n",
       "      <th>3</th>\n",
       "      <td>var_53</td>\n",
       "      <td>var_148</td>\n",
       "      <td>-0.009784</td>\n",
       "    </tr>\n",
       "    <tr>\n",
       "      <th>4</th>\n",
       "      <td>var_80</td>\n",
       "      <td>var_6</td>\n",
       "      <td>-0.008959</td>\n",
       "    </tr>\n",
       "    <tr>\n",
       "      <th>5</th>\n",
       "      <td>var_6</td>\n",
       "      <td>var_80</td>\n",
       "      <td>-0.008959</td>\n",
       "    </tr>\n",
       "    <tr>\n",
       "      <th>6</th>\n",
       "      <td>var_80</td>\n",
       "      <td>var_1</td>\n",
       "      <td>-0.008856</td>\n",
       "    </tr>\n",
       "    <tr>\n",
       "      <th>7</th>\n",
       "      <td>var_1</td>\n",
       "      <td>var_80</td>\n",
       "      <td>-0.008856</td>\n",
       "    </tr>\n",
       "    <tr>\n",
       "      <th>8</th>\n",
       "      <td>var_13</td>\n",
       "      <td>var_2</td>\n",
       "      <td>-0.008795</td>\n",
       "    </tr>\n",
       "    <tr>\n",
       "      <th>9</th>\n",
       "      <td>var_2</td>\n",
       "      <td>var_13</td>\n",
       "      <td>-0.008795</td>\n",
       "    </tr>\n",
       "  </tbody>\n",
       "</table>\n",
       "</div>"
      ],
      "text/plain": [
       "   level_0  level_1         0\n",
       "0  var_139   var_26 -0.009844\n",
       "1   var_26  var_139 -0.009844\n",
       "2  var_148   var_53 -0.009784\n",
       "3   var_53  var_148 -0.009784\n",
       "4   var_80    var_6 -0.008959\n",
       "5    var_6   var_80 -0.008959\n",
       "6   var_80    var_1 -0.008856\n",
       "7    var_1   var_80 -0.008856\n",
       "8   var_13    var_2 -0.008795\n",
       "9    var_2   var_13 -0.008795"
      ]
     },
     "execution_count": 26,
     "metadata": {
      "tags": []
     },
     "output_type": "execute_result"
    }
   ],
   "source": [
    "correlations = train_df[features].corr().unstack().sort_values(kind=\"quicksort\").reset_index()\n",
    "correlations = correlations[correlations['level_0'] != correlations['level_1']]\n",
    "correlations.head(10)"
   ]
  },
  {
   "cell_type": "code",
   "execution_count": null,
   "metadata": {
    "colab": {
     "base_uri": "https://localhost:8080/",
     "height": 359
    },
    "id": "_T4-RwNvI7QP",
    "outputId": "7748fb68-fe96-4b22-c73c-7a1f5d73fc0d"
   },
   "outputs": [
    {
     "data": {
      "text/html": [
       "<div>\n",
       "<style scoped>\n",
       "    .dataframe tbody tr th:only-of-type {\n",
       "        vertical-align: middle;\n",
       "    }\n",
       "\n",
       "    .dataframe tbody tr th {\n",
       "        vertical-align: top;\n",
       "    }\n",
       "\n",
       "    .dataframe thead th {\n",
       "        text-align: right;\n",
       "    }\n",
       "</style>\n",
       "<table border=\"1\" class=\"dataframe\">\n",
       "  <thead>\n",
       "    <tr style=\"text-align: right;\">\n",
       "      <th></th>\n",
       "      <th>level_0</th>\n",
       "      <th>level_1</th>\n",
       "      <th>0</th>\n",
       "    </tr>\n",
       "  </thead>\n",
       "  <tbody>\n",
       "    <tr>\n",
       "      <th>39790</th>\n",
       "      <td>var_132</td>\n",
       "      <td>var_122</td>\n",
       "      <td>0.008954</td>\n",
       "    </tr>\n",
       "    <tr>\n",
       "      <th>39791</th>\n",
       "      <td>var_122</td>\n",
       "      <td>var_132</td>\n",
       "      <td>0.008954</td>\n",
       "    </tr>\n",
       "    <tr>\n",
       "      <th>39792</th>\n",
       "      <td>var_169</td>\n",
       "      <td>var_146</td>\n",
       "      <td>0.009078</td>\n",
       "    </tr>\n",
       "    <tr>\n",
       "      <th>39793</th>\n",
       "      <td>var_146</td>\n",
       "      <td>var_169</td>\n",
       "      <td>0.009078</td>\n",
       "    </tr>\n",
       "    <tr>\n",
       "      <th>39794</th>\n",
       "      <td>var_189</td>\n",
       "      <td>var_183</td>\n",
       "      <td>0.009359</td>\n",
       "    </tr>\n",
       "    <tr>\n",
       "      <th>39795</th>\n",
       "      <td>var_183</td>\n",
       "      <td>var_189</td>\n",
       "      <td>0.009359</td>\n",
       "    </tr>\n",
       "    <tr>\n",
       "      <th>39796</th>\n",
       "      <td>var_174</td>\n",
       "      <td>var_81</td>\n",
       "      <td>0.009494</td>\n",
       "    </tr>\n",
       "    <tr>\n",
       "      <th>39797</th>\n",
       "      <td>var_81</td>\n",
       "      <td>var_174</td>\n",
       "      <td>0.009494</td>\n",
       "    </tr>\n",
       "    <tr>\n",
       "      <th>39798</th>\n",
       "      <td>var_81</td>\n",
       "      <td>var_165</td>\n",
       "      <td>0.009717</td>\n",
       "    </tr>\n",
       "    <tr>\n",
       "      <th>39799</th>\n",
       "      <td>var_165</td>\n",
       "      <td>var_81</td>\n",
       "      <td>0.009717</td>\n",
       "    </tr>\n",
       "  </tbody>\n",
       "</table>\n",
       "</div>"
      ],
      "text/plain": [
       "       level_0  level_1         0\n",
       "39790  var_132  var_122  0.008954\n",
       "39791  var_122  var_132  0.008954\n",
       "39792  var_169  var_146  0.009078\n",
       "39793  var_146  var_169  0.009078\n",
       "39794  var_189  var_183  0.009359\n",
       "39795  var_183  var_189  0.009359\n",
       "39796  var_174   var_81  0.009494\n",
       "39797   var_81  var_174  0.009494\n",
       "39798   var_81  var_165  0.009717\n",
       "39799  var_165   var_81  0.009717"
      ]
     },
     "execution_count": 27,
     "metadata": {
      "tags": []
     },
     "output_type": "execute_result"
    }
   ],
   "source": [
    "correlations.tail(10)"
   ]
  },
  {
   "cell_type": "markdown",
   "metadata": {
    "id": "WnzvLiaxhnC4"
   },
   "source": [
    "### After Feature Enginerring Correlation Matrix"
   ]
  },
  {
   "cell_type": "code",
   "execution_count": null,
   "metadata": {
    "colab": {
     "base_uri": "https://localhost:8080/",
     "height": 359
    },
    "id": "FpZ4AOdHiU0m",
    "outputId": "970606e6-68e3-458d-94df-83d11b2ccd63"
   },
   "outputs": [
    {
     "data": {
      "text/html": [
       "<div>\n",
       "<style scoped>\n",
       "    .dataframe tbody tr th:only-of-type {\n",
       "        vertical-align: middle;\n",
       "    }\n",
       "\n",
       "    .dataframe tbody tr th {\n",
       "        vertical-align: top;\n",
       "    }\n",
       "\n",
       "    .dataframe thead th {\n",
       "        text-align: right;\n",
       "    }\n",
       "</style>\n",
       "<table border=\"1\" class=\"dataframe\">\n",
       "  <thead>\n",
       "    <tr style=\"text-align: right;\">\n",
       "      <th></th>\n",
       "      <th>level_0</th>\n",
       "      <th>level_1</th>\n",
       "      <th>0</th>\n",
       "    </tr>\n",
       "  </thead>\n",
       "  <tbody>\n",
       "    <tr>\n",
       "      <th>0</th>\n",
       "      <td>min</td>\n",
       "      <td>std</td>\n",
       "      <td>-0.546556</td>\n",
       "    </tr>\n",
       "    <tr>\n",
       "      <th>1</th>\n",
       "      <td>std</td>\n",
       "      <td>min</td>\n",
       "      <td>-0.546556</td>\n",
       "    </tr>\n",
       "    <tr>\n",
       "      <th>2</th>\n",
       "      <td>std</td>\n",
       "      <td>skew</td>\n",
       "      <td>-0.228264</td>\n",
       "    </tr>\n",
       "    <tr>\n",
       "      <th>3</th>\n",
       "      <td>skew</td>\n",
       "      <td>std</td>\n",
       "      <td>-0.228264</td>\n",
       "    </tr>\n",
       "    <tr>\n",
       "      <th>4</th>\n",
       "      <td>sum</td>\n",
       "      <td>std</td>\n",
       "      <td>-0.084748</td>\n",
       "    </tr>\n",
       "    <tr>\n",
       "      <th>5</th>\n",
       "      <td>std</td>\n",
       "      <td>sum</td>\n",
       "      <td>-0.084748</td>\n",
       "    </tr>\n",
       "    <tr>\n",
       "      <th>6</th>\n",
       "      <td>mean</td>\n",
       "      <td>std</td>\n",
       "      <td>-0.084736</td>\n",
       "    </tr>\n",
       "    <tr>\n",
       "      <th>7</th>\n",
       "      <td>std</td>\n",
       "      <td>mean</td>\n",
       "      <td>-0.084736</td>\n",
       "    </tr>\n",
       "    <tr>\n",
       "      <th>8</th>\n",
       "      <td>max</td>\n",
       "      <td>min</td>\n",
       "      <td>0.002561</td>\n",
       "    </tr>\n",
       "    <tr>\n",
       "      <th>9</th>\n",
       "      <td>min</td>\n",
       "      <td>max</td>\n",
       "      <td>0.002561</td>\n",
       "    </tr>\n",
       "  </tbody>\n",
       "</table>\n",
       "</div>"
      ],
      "text/plain": [
       "  level_0 level_1         0\n",
       "0     min     std -0.546556\n",
       "1     std     min -0.546556\n",
       "2     std    skew -0.228264\n",
       "3    skew     std -0.228264\n",
       "4     sum     std -0.084748\n",
       "5     std     sum -0.084748\n",
       "6    mean     std -0.084736\n",
       "7     std    mean -0.084736\n",
       "8     max     min  0.002561\n",
       "9     min     max  0.002561"
      ]
     },
     "execution_count": 31,
     "metadata": {
      "tags": []
     },
     "output_type": "execute_result"
    }
   ],
   "source": [
    "correlations = train_df[features].corr().unstack().sort_values(kind=\"quicksort\").reset_index()\n",
    "correlations = correlations[correlations['level_0'] != correlations['level_1']]\n",
    "correlations.head(10)"
   ]
  },
  {
   "cell_type": "code",
   "execution_count": null,
   "metadata": {
    "colab": {
     "base_uri": "https://localhost:8080/",
     "height": 359
    },
    "id": "yZdvcR9biqgW",
    "outputId": "15c7935a-c241-4e4e-eee6-b16326ccb44b",
    "scrolled": true
   },
   "outputs": [
    {
     "data": {
      "text/html": [
       "<div>\n",
       "<style scoped>\n",
       "    .dataframe tbody tr th:only-of-type {\n",
       "        vertical-align: middle;\n",
       "    }\n",
       "\n",
       "    .dataframe tbody tr th {\n",
       "        vertical-align: top;\n",
       "    }\n",
       "\n",
       "    .dataframe thead th {\n",
       "        text-align: right;\n",
       "    }\n",
       "</style>\n",
       "<table border=\"1\" class=\"dataframe\">\n",
       "  <thead>\n",
       "    <tr style=\"text-align: right;\">\n",
       "      <th></th>\n",
       "      <th>level_0</th>\n",
       "      <th>level_1</th>\n",
       "      <th>0</th>\n",
       "    </tr>\n",
       "  </thead>\n",
       "  <tbody>\n",
       "    <tr>\n",
       "      <th>20</th>\n",
       "      <td>skew</td>\n",
       "      <td>mean</td>\n",
       "      <td>0.459580</td>\n",
       "    </tr>\n",
       "    <tr>\n",
       "      <th>21</th>\n",
       "      <td>mean</td>\n",
       "      <td>skew</td>\n",
       "      <td>0.459580</td>\n",
       "    </tr>\n",
       "    <tr>\n",
       "      <th>22</th>\n",
       "      <td>skew</td>\n",
       "      <td>sum</td>\n",
       "      <td>0.459767</td>\n",
       "    </tr>\n",
       "    <tr>\n",
       "      <th>23</th>\n",
       "      <td>sum</td>\n",
       "      <td>skew</td>\n",
       "      <td>0.459767</td>\n",
       "    </tr>\n",
       "    <tr>\n",
       "      <th>24</th>\n",
       "      <td>max</td>\n",
       "      <td>skew</td>\n",
       "      <td>0.465609</td>\n",
       "    </tr>\n",
       "    <tr>\n",
       "      <th>25</th>\n",
       "      <td>skew</td>\n",
       "      <td>max</td>\n",
       "      <td>0.465609</td>\n",
       "    </tr>\n",
       "    <tr>\n",
       "      <th>26</th>\n",
       "      <td>min</td>\n",
       "      <td>skew</td>\n",
       "      <td>0.760773</td>\n",
       "    </tr>\n",
       "    <tr>\n",
       "      <th>27</th>\n",
       "      <td>skew</td>\n",
       "      <td>min</td>\n",
       "      <td>0.760773</td>\n",
       "    </tr>\n",
       "    <tr>\n",
       "      <th>28</th>\n",
       "      <td>mean</td>\n",
       "      <td>sum</td>\n",
       "      <td>0.999520</td>\n",
       "    </tr>\n",
       "    <tr>\n",
       "      <th>29</th>\n",
       "      <td>sum</td>\n",
       "      <td>mean</td>\n",
       "      <td>0.999520</td>\n",
       "    </tr>\n",
       "  </tbody>\n",
       "</table>\n",
       "</div>"
      ],
      "text/plain": [
       "   level_0 level_1         0\n",
       "20    skew    mean  0.459580\n",
       "21    mean    skew  0.459580\n",
       "22    skew     sum  0.459767\n",
       "23     sum    skew  0.459767\n",
       "24     max    skew  0.465609\n",
       "25    skew     max  0.465609\n",
       "26     min    skew  0.760773\n",
       "27    skew     min  0.760773\n",
       "28    mean     sum  0.999520\n",
       "29     sum    mean  0.999520"
      ]
     },
     "execution_count": 33,
     "metadata": {
      "tags": []
     },
     "output_type": "execute_result"
    }
   ],
   "source": [
    "correlations.tail(10)"
   ]
  },
  {
   "cell_type": "markdown",
   "metadata": {},
   "source": [
    "### Reloading the dataset"
   ]
  },
  {
   "cell_type": "code",
   "execution_count": null,
   "metadata": {
    "colab": {
     "base_uri": "https://localhost:8080/",
     "height": 68
    },
    "id": "VF9ORcj3jhJi",
    "outputId": "f9400d21-cd12-4b1b-cc56-c53727299b66"
   },
   "outputs": [
    {
     "name": "stdout",
     "output_type": "stream",
     "text": [
      "Memory usage of dataframe is 308.23 MB\n",
      "Memory usage after optimization is: 78.01 MB\n",
      "Decreased by 74.7%\n"
     ]
    }
   ],
   "source": [
    "data=pd.read_csv('../content/gdrive/My Drive/Colab Notebooks/train_santander.csv')\n",
    "data = reduce_mem_usage(data)\n",
    "\n"
   ]
  },
  {
   "cell_type": "code",
   "execution_count": null,
   "metadata": {
    "colab": {
     "base_uri": "https://localhost:8080/",
     "height": 51
    },
    "id": "6Ldsp4Knj7na",
    "outputId": "b335f228-a330-448d-8eb2-b3aacf8235dd"
   },
   "outputs": [
    {
     "name": "stderr",
     "output_type": "stream",
     "text": [
      "/usr/local/lib/python3.6/dist-packages/ipykernel_launcher.py:1: RuntimeWarning: overflow encountered in exp\n",
      "  \"\"\"Entry point for launching an IPython kernel.\n"
     ]
    }
   ],
   "source": [
    "data[data.columns.values[2:202]]=data[data.columns.values[2:202]]"
   ]
  },
  {
   "cell_type": "code",
   "execution_count": null,
   "metadata": {
    "colab": {
     "base_uri": "https://localhost:8080/",
     "height": 338
    },
    "id": "VdikxlmRmDXQ",
    "outputId": "9d6ea9c2-da6c-410c-928c-7e3a7a85bb42"
   },
   "outputs": [
    {
     "data": {
      "text/html": [
       "<div>\n",
       "<style scoped>\n",
       "    .dataframe tbody tr th:only-of-type {\n",
       "        vertical-align: middle;\n",
       "    }\n",
       "\n",
       "    .dataframe tbody tr th {\n",
       "        vertical-align: top;\n",
       "    }\n",
       "\n",
       "    .dataframe thead th {\n",
       "        text-align: right;\n",
       "    }\n",
       "</style>\n",
       "<table border=\"1\" class=\"dataframe\">\n",
       "  <thead>\n",
       "    <tr style=\"text-align: right;\">\n",
       "      <th></th>\n",
       "      <th>ID_code</th>\n",
       "      <th>target</th>\n",
       "      <th>var_0</th>\n",
       "      <th>var_1</th>\n",
       "      <th>var_2</th>\n",
       "      <th>var_3</th>\n",
       "      <th>var_4</th>\n",
       "      <th>var_5</th>\n",
       "      <th>var_6</th>\n",
       "      <th>var_7</th>\n",
       "      <th>var_8</th>\n",
       "      <th>var_9</th>\n",
       "      <th>var_10</th>\n",
       "      <th>var_11</th>\n",
       "      <th>var_12</th>\n",
       "      <th>var_13</th>\n",
       "      <th>var_14</th>\n",
       "      <th>var_15</th>\n",
       "      <th>var_16</th>\n",
       "      <th>var_17</th>\n",
       "      <th>var_18</th>\n",
       "      <th>var_19</th>\n",
       "      <th>var_20</th>\n",
       "      <th>var_21</th>\n",
       "      <th>var_22</th>\n",
       "      <th>var_23</th>\n",
       "      <th>var_24</th>\n",
       "      <th>var_25</th>\n",
       "      <th>var_26</th>\n",
       "      <th>var_27</th>\n",
       "      <th>var_28</th>\n",
       "      <th>var_29</th>\n",
       "      <th>var_30</th>\n",
       "      <th>var_31</th>\n",
       "      <th>var_32</th>\n",
       "      <th>var_33</th>\n",
       "      <th>var_34</th>\n",
       "      <th>var_35</th>\n",
       "      <th>var_36</th>\n",
       "      <th>var_37</th>\n",
       "      <th>...</th>\n",
       "      <th>var_160</th>\n",
       "      <th>var_161</th>\n",
       "      <th>var_162</th>\n",
       "      <th>var_163</th>\n",
       "      <th>var_164</th>\n",
       "      <th>var_165</th>\n",
       "      <th>var_166</th>\n",
       "      <th>var_167</th>\n",
       "      <th>var_168</th>\n",
       "      <th>var_169</th>\n",
       "      <th>var_170</th>\n",
       "      <th>var_171</th>\n",
       "      <th>var_172</th>\n",
       "      <th>var_173</th>\n",
       "      <th>var_174</th>\n",
       "      <th>var_175</th>\n",
       "      <th>var_176</th>\n",
       "      <th>var_177</th>\n",
       "      <th>var_178</th>\n",
       "      <th>var_179</th>\n",
       "      <th>var_180</th>\n",
       "      <th>var_181</th>\n",
       "      <th>var_182</th>\n",
       "      <th>var_183</th>\n",
       "      <th>var_184</th>\n",
       "      <th>var_185</th>\n",
       "      <th>var_186</th>\n",
       "      <th>var_187</th>\n",
       "      <th>var_188</th>\n",
       "      <th>var_189</th>\n",
       "      <th>var_190</th>\n",
       "      <th>var_191</th>\n",
       "      <th>var_192</th>\n",
       "      <th>var_193</th>\n",
       "      <th>var_194</th>\n",
       "      <th>var_195</th>\n",
       "      <th>var_196</th>\n",
       "      <th>var_197</th>\n",
       "      <th>var_198</th>\n",
       "      <th>var_199</th>\n",
       "    </tr>\n",
       "  </thead>\n",
       "  <tbody>\n",
       "    <tr>\n",
       "      <th>0</th>\n",
       "      <td>train_0</td>\n",
       "      <td>0</td>\n",
       "      <td>7496.0</td>\n",
       "      <td>0.001130</td>\n",
       "      <td>inf</td>\n",
       "      <td>163.000</td>\n",
       "      <td>inf</td>\n",
       "      <td>0.000093</td>\n",
       "      <td>166.875</td>\n",
       "      <td>inf</td>\n",
       "      <td>0.007286</td>\n",
       "      <td>313.0</td>\n",
       "      <td>18.656250</td>\n",
       "      <td>24.093750</td>\n",
       "      <td>inf</td>\n",
       "      <td>1.776367</td>\n",
       "      <td>6612.0</td>\n",
       "      <td>inf</td>\n",
       "      <td>314.25</td>\n",
       "      <td>7.185936e-04</td>\n",
       "      <td>72.625</td>\n",
       "      <td>inf</td>\n",
       "      <td>37472.0000</td>\n",
       "      <td>inf</td>\n",
       "      <td>13.171875</td>\n",
       "      <td>11.828125</td>\n",
       "      <td>inf</td>\n",
       "      <td>inf</td>\n",
       "      <td>0.005810</td>\n",
       "      <td>0.665527</td>\n",
       "      <td>138.375</td>\n",
       "      <td>401.750000</td>\n",
       "      <td>7.343750e-01</td>\n",
       "      <td>inf</td>\n",
       "      <td>0.020721</td>\n",
       "      <td>inf</td>\n",
       "      <td>inf</td>\n",
       "      <td>39264.000000</td>\n",
       "      <td>1.966797</td>\n",
       "      <td>2662.0000</td>\n",
       "      <td>...</td>\n",
       "      <td>inf</td>\n",
       "      <td>202.875</td>\n",
       "      <td>37.15625</td>\n",
       "      <td>154.3750</td>\n",
       "      <td>793.000000</td>\n",
       "      <td>inf</td>\n",
       "      <td>14.898438</td>\n",
       "      <td>0.498047</td>\n",
       "      <td>14784.000000</td>\n",
       "      <td>241.875</td>\n",
       "      <td>0.008514</td>\n",
       "      <td>0.000220</td>\n",
       "      <td>inf</td>\n",
       "      <td>23.390625</td>\n",
       "      <td>inf</td>\n",
       "      <td>2304.0</td>\n",
       "      <td>0.000040</td>\n",
       "      <td>inf</td>\n",
       "      <td>0.029617</td>\n",
       "      <td>5.582031</td>\n",
       "      <td>0.000224</td>\n",
       "      <td>8232.0</td>\n",
       "      <td>2.146875e+01</td>\n",
       "      <td>inf</td>\n",
       "      <td>inf</td>\n",
       "      <td>356.000000</td>\n",
       "      <td>inf</td>\n",
       "      <td>0.000000e+00</td>\n",
       "      <td>inf</td>\n",
       "      <td>1.796875</td>\n",
       "      <td>84.250000</td>\n",
       "      <td>52.71875</td>\n",
       "      <td>23.031250</td>\n",
       "      <td>5.425781</td>\n",
       "      <td>inf</td>\n",
       "      <td>0.090881</td>\n",
       "      <td>2640.000000</td>\n",
       "      <td>5232.0</td>\n",
       "      <td>inf</td>\n",
       "      <td>0.335693</td>\n",
       "    </tr>\n",
       "    <tr>\n",
       "      <th>1</th>\n",
       "      <td>train_1</td>\n",
       "      <td>0</td>\n",
       "      <td>inf</td>\n",
       "      <td>0.015793</td>\n",
       "      <td>inf</td>\n",
       "      <td>219.375</td>\n",
       "      <td>inf</td>\n",
       "      <td>1145.000000</td>\n",
       "      <td>276.250</td>\n",
       "      <td>inf</td>\n",
       "      <td>23.250000</td>\n",
       "      <td>3248.0</td>\n",
       "      <td>0.667969</td>\n",
       "      <td>3148.000000</td>\n",
       "      <td>inf</td>\n",
       "      <td>4512.000000</td>\n",
       "      <td>229.0</td>\n",
       "      <td>inf</td>\n",
       "      <td>inf</td>\n",
       "      <td>1.788139e-07</td>\n",
       "      <td>2442.000</td>\n",
       "      <td>inf</td>\n",
       "      <td>30.8125</td>\n",
       "      <td>15.492188</td>\n",
       "      <td>5192.000000</td>\n",
       "      <td>29.109375</td>\n",
       "      <td>1071.00</td>\n",
       "      <td>inf</td>\n",
       "      <td>0.000008</td>\n",
       "      <td>0.077393</td>\n",
       "      <td>155.500</td>\n",
       "      <td>1.730469</td>\n",
       "      <td>9.173155e-05</td>\n",
       "      <td>2630.0</td>\n",
       "      <td>3.619141</td>\n",
       "      <td>inf</td>\n",
       "      <td>inf</td>\n",
       "      <td>2.095703</td>\n",
       "      <td>16.421875</td>\n",
       "      <td>345.0000</td>\n",
       "      <td>...</td>\n",
       "      <td>inf</td>\n",
       "      <td>353.250</td>\n",
       "      <td>45.62500</td>\n",
       "      <td>inf</td>\n",
       "      <td>0.006660</td>\n",
       "      <td>inf</td>\n",
       "      <td>24.562500</td>\n",
       "      <td>11160.000000</td>\n",
       "      <td>48.562500</td>\n",
       "      <td>330.500</td>\n",
       "      <td>254.500000</td>\n",
       "      <td>163.625000</td>\n",
       "      <td>inf</td>\n",
       "      <td>247.625000</td>\n",
       "      <td>inf</td>\n",
       "      <td>36320.0</td>\n",
       "      <td>0.000721</td>\n",
       "      <td>inf</td>\n",
       "      <td>0.000644</td>\n",
       "      <td>64736.000000</td>\n",
       "      <td>0.003721</td>\n",
       "      <td>13152.0</td>\n",
       "      <td>3.576279e-07</td>\n",
       "      <td>12352.0000</td>\n",
       "      <td>inf</td>\n",
       "      <td>0.007725</td>\n",
       "      <td>2114.0</td>\n",
       "      <td>1.192093e-07</td>\n",
       "      <td>inf</td>\n",
       "      <td>0.700195</td>\n",
       "      <td>2082.000000</td>\n",
       "      <td>2258.00000</td>\n",
       "      <td>13.250000</td>\n",
       "      <td>57120.000000</td>\n",
       "      <td>inf</td>\n",
       "      <td>7.636719</td>\n",
       "      <td>3378.000000</td>\n",
       "      <td>6564.0</td>\n",
       "      <td>inf</td>\n",
       "      <td>7.042969</td>\n",
       "    </tr>\n",
       "    <tr>\n",
       "      <th>2</th>\n",
       "      <td>train_2</td>\n",
       "      <td>0</td>\n",
       "      <td>5484.0</td>\n",
       "      <td>0.064148</td>\n",
       "      <td>inf</td>\n",
       "      <td>2682.000</td>\n",
       "      <td>39584.0</td>\n",
       "      <td>0.000113</td>\n",
       "      <td>1034.000</td>\n",
       "      <td>inf</td>\n",
       "      <td>0.007313</td>\n",
       "      <td>385.0</td>\n",
       "      <td>0.722656</td>\n",
       "      <td>0.000013</td>\n",
       "      <td>inf</td>\n",
       "      <td>1499.000000</td>\n",
       "      <td>1851.0</td>\n",
       "      <td>inf</td>\n",
       "      <td>2164.00</td>\n",
       "      <td>1.756592e-01</td>\n",
       "      <td>109.875</td>\n",
       "      <td>inf</td>\n",
       "      <td>inf</td>\n",
       "      <td>inf</td>\n",
       "      <td>3.369141</td>\n",
       "      <td>33.562500</td>\n",
       "      <td>291.75</td>\n",
       "      <td>inf</td>\n",
       "      <td>0.000338</td>\n",
       "      <td>0.054901</td>\n",
       "      <td>346.500</td>\n",
       "      <td>466.250000</td>\n",
       "      <td>1.507998e-05</td>\n",
       "      <td>inf</td>\n",
       "      <td>0.101562</td>\n",
       "      <td>inf</td>\n",
       "      <td>62752.0</td>\n",
       "      <td>60.906250</td>\n",
       "      <td>109.875000</td>\n",
       "      <td>1026.0000</td>\n",
       "      <td>...</td>\n",
       "      <td>inf</td>\n",
       "      <td>345.000</td>\n",
       "      <td>110.75000</td>\n",
       "      <td>303.2500</td>\n",
       "      <td>0.353027</td>\n",
       "      <td>inf</td>\n",
       "      <td>26.562500</td>\n",
       "      <td>0.003721</td>\n",
       "      <td>1505.000000</td>\n",
       "      <td>320.500</td>\n",
       "      <td>0.000830</td>\n",
       "      <td>0.020004</td>\n",
       "      <td>1419.0</td>\n",
       "      <td>0.002954</td>\n",
       "      <td>inf</td>\n",
       "      <td>55360.0</td>\n",
       "      <td>0.733398</td>\n",
       "      <td>6932.0</td>\n",
       "      <td>0.000061</td>\n",
       "      <td>11.031250</td>\n",
       "      <td>0.013664</td>\n",
       "      <td>11976.0</td>\n",
       "      <td>1.728535e-06</td>\n",
       "      <td>23.4375</td>\n",
       "      <td>inf</td>\n",
       "      <td>0.004986</td>\n",
       "      <td>216.0</td>\n",
       "      <td>1.900673e-03</td>\n",
       "      <td>26784.0</td>\n",
       "      <td>0.430908</td>\n",
       "      <td>18.281250</td>\n",
       "      <td>17840.00000</td>\n",
       "      <td>5.312500</td>\n",
       "      <td>5.394531</td>\n",
       "      <td>inf</td>\n",
       "      <td>23.156250</td>\n",
       "      <td>0.001474</td>\n",
       "      <td>3888.0</td>\n",
       "      <td>inf</td>\n",
       "      <td>1.486328</td>\n",
       "    </tr>\n",
       "    <tr>\n",
       "      <th>3</th>\n",
       "      <td>train_3</td>\n",
       "      <td>0</td>\n",
       "      <td>63744.0</td>\n",
       "      <td>0.116211</td>\n",
       "      <td>7732.0</td>\n",
       "      <td>1333.000</td>\n",
       "      <td>inf</td>\n",
       "      <td>0.159424</td>\n",
       "      <td>345.000</td>\n",
       "      <td>inf</td>\n",
       "      <td>0.002853</td>\n",
       "      <td>3798.0</td>\n",
       "      <td>10.039062</td>\n",
       "      <td>16.625000</td>\n",
       "      <td>inf</td>\n",
       "      <td>inf</td>\n",
       "      <td>637.0</td>\n",
       "      <td>inf</td>\n",
       "      <td>46272.00</td>\n",
       "      <td>6.503906e-01</td>\n",
       "      <td>inf</td>\n",
       "      <td>inf</td>\n",
       "      <td>inf</td>\n",
       "      <td>inf</td>\n",
       "      <td>916.500000</td>\n",
       "      <td>15.218750</td>\n",
       "      <td>inf</td>\n",
       "      <td>inf</td>\n",
       "      <td>2.255859</td>\n",
       "      <td>0.404297</td>\n",
       "      <td>367.250</td>\n",
       "      <td>17.109375</td>\n",
       "      <td>2.384186e-07</td>\n",
       "      <td>34112.0</td>\n",
       "      <td>0.076355</td>\n",
       "      <td>482.75</td>\n",
       "      <td>40512.0</td>\n",
       "      <td>0.002701</td>\n",
       "      <td>3540.000000</td>\n",
       "      <td>17.3125</td>\n",
       "      <td>...</td>\n",
       "      <td>inf</td>\n",
       "      <td>391.000</td>\n",
       "      <td>1349.00000</td>\n",
       "      <td>48.9375</td>\n",
       "      <td>0.000015</td>\n",
       "      <td>inf</td>\n",
       "      <td>13.304688</td>\n",
       "      <td>0.067139</td>\n",
       "      <td>1.757812</td>\n",
       "      <td>209.250</td>\n",
       "      <td>0.000783</td>\n",
       "      <td>0.002047</td>\n",
       "      <td>inf</td>\n",
       "      <td>inf</td>\n",
       "      <td>inf</td>\n",
       "      <td>3300.0</td>\n",
       "      <td>inf</td>\n",
       "      <td>inf</td>\n",
       "      <td>0.000028</td>\n",
       "      <td>297.500000</td>\n",
       "      <td>0.023422</td>\n",
       "      <td>4512.0</td>\n",
       "      <td>6.675781e+00</td>\n",
       "      <td>1425.0000</td>\n",
       "      <td>0.628906</td>\n",
       "      <td>0.951172</td>\n",
       "      <td>2790.0</td>\n",
       "      <td>2.682209e-06</td>\n",
       "      <td>inf</td>\n",
       "      <td>6.351562</td>\n",
       "      <td>86.937500</td>\n",
       "      <td>114.68750</td>\n",
       "      <td>2.050781</td>\n",
       "      <td>4.144531</td>\n",
       "      <td>inf</td>\n",
       "      <td>0.280762</td>\n",
       "      <td>0.053528</td>\n",
       "      <td>29408.0</td>\n",
       "      <td>inf</td>\n",
       "      <td>0.000123</td>\n",
       "    </tr>\n",
       "    <tr>\n",
       "      <th>4</th>\n",
       "      <td>train_4</td>\n",
       "      <td>0</td>\n",
       "      <td>18688.0</td>\n",
       "      <td>0.226807</td>\n",
       "      <td>inf</td>\n",
       "      <td>762.500</td>\n",
       "      <td>inf</td>\n",
       "      <td>11.578125</td>\n",
       "      <td>380.500</td>\n",
       "      <td>inf</td>\n",
       "      <td>526.000000</td>\n",
       "      <td>2164.0</td>\n",
       "      <td>0.000079</td>\n",
       "      <td>0.000005</td>\n",
       "      <td>inf</td>\n",
       "      <td>2672.000000</td>\n",
       "      <td>2414.0</td>\n",
       "      <td>inf</td>\n",
       "      <td>4840.00</td>\n",
       "      <td>4.650879e-02</td>\n",
       "      <td>683.500</td>\n",
       "      <td>inf</td>\n",
       "      <td>inf</td>\n",
       "      <td>inf</td>\n",
       "      <td>24576.000000</td>\n",
       "      <td>15.101562</td>\n",
       "      <td>inf</td>\n",
       "      <td>inf</td>\n",
       "      <td>23.906250</td>\n",
       "      <td>0.035370</td>\n",
       "      <td>366.000</td>\n",
       "      <td>2790.000000</td>\n",
       "      <td>4.251099e-02</td>\n",
       "      <td>12952.0</td>\n",
       "      <td>0.991699</td>\n",
       "      <td>inf</td>\n",
       "      <td>inf</td>\n",
       "      <td>1.882812</td>\n",
       "      <td>16.328125</td>\n",
       "      <td>337.0000</td>\n",
       "      <td>...</td>\n",
       "      <td>inf</td>\n",
       "      <td>297.500</td>\n",
       "      <td>236.25000</td>\n",
       "      <td>inf</td>\n",
       "      <td>719.000000</td>\n",
       "      <td>inf</td>\n",
       "      <td>25.296875</td>\n",
       "      <td>0.169312</td>\n",
       "      <td>22.843750</td>\n",
       "      <td>257.500</td>\n",
       "      <td>4.261719</td>\n",
       "      <td>0.069824</td>\n",
       "      <td>inf</td>\n",
       "      <td>10.710938</td>\n",
       "      <td>inf</td>\n",
       "      <td>inf</td>\n",
       "      <td>0.035248</td>\n",
       "      <td>inf</td>\n",
       "      <td>5.578125</td>\n",
       "      <td>176.875000</td>\n",
       "      <td>0.000455</td>\n",
       "      <td>17424.0</td>\n",
       "      <td>1.330000e+02</td>\n",
       "      <td>inf</td>\n",
       "      <td>inf</td>\n",
       "      <td>0.000373</td>\n",
       "      <td>615.0</td>\n",
       "      <td>3.745000e+02</td>\n",
       "      <td>inf</td>\n",
       "      <td>0.753418</td>\n",
       "      <td>0.225342</td>\n",
       "      <td>13680.00000</td>\n",
       "      <td>0.859863</td>\n",
       "      <td>9848.000000</td>\n",
       "      <td>inf</td>\n",
       "      <td>0.220581</td>\n",
       "      <td>50.687500</td>\n",
       "      <td>13360.0</td>\n",
       "      <td>inf</td>\n",
       "      <td>0.000149</td>\n",
       "    </tr>\n",
       "  </tbody>\n",
       "</table>\n",
       "<p>5 rows × 202 columns</p>\n",
       "</div>"
      ],
      "text/plain": [
       "   ID_code  target    var_0     var_1  ...      var_196  var_197  var_198   var_199\n",
       "0  train_0       0   7496.0  0.001130  ...  2640.000000   5232.0      inf  0.335693\n",
       "1  train_1       0      inf  0.015793  ...  3378.000000   6564.0      inf  7.042969\n",
       "2  train_2       0   5484.0  0.064148  ...     0.001474   3888.0      inf  1.486328\n",
       "3  train_3       0  63744.0  0.116211  ...     0.053528  29408.0      inf  0.000123\n",
       "4  train_4       0  18688.0  0.226807  ...    50.687500  13360.0      inf  0.000149\n",
       "\n",
       "[5 rows x 202 columns]"
      ]
     },
     "execution_count": 67,
     "metadata": {
      "tags": []
     },
     "output_type": "execute_result"
    }
   ],
   "source": [
    "data.head()"
   ]
  },
  {
   "cell_type": "code",
   "execution_count": null,
   "metadata": {
    "colab": {
     "base_uri": "https://localhost:8080/",
     "height": 359
    },
    "id": "tDZmQprvmNYi",
    "outputId": "3b4115e5-52aa-44b3-e30e-88a64a23ea99"
   },
   "outputs": [
    {
     "data": {
      "text/html": [
       "<div>\n",
       "<style scoped>\n",
       "    .dataframe tbody tr th:only-of-type {\n",
       "        vertical-align: middle;\n",
       "    }\n",
       "\n",
       "    .dataframe tbody tr th {\n",
       "        vertical-align: top;\n",
       "    }\n",
       "\n",
       "    .dataframe thead th {\n",
       "        text-align: right;\n",
       "    }\n",
       "</style>\n",
       "<table border=\"1\" class=\"dataframe\">\n",
       "  <thead>\n",
       "    <tr style=\"text-align: right;\">\n",
       "      <th></th>\n",
       "      <th>level_0</th>\n",
       "      <th>level_1</th>\n",
       "      <th>0</th>\n",
       "    </tr>\n",
       "  </thead>\n",
       "  <tbody>\n",
       "    <tr>\n",
       "      <th>0</th>\n",
       "      <td>var_53</td>\n",
       "      <td>var_148</td>\n",
       "      <td>-0.010207</td>\n",
       "    </tr>\n",
       "    <tr>\n",
       "      <th>1</th>\n",
       "      <td>var_148</td>\n",
       "      <td>var_53</td>\n",
       "      <td>-0.010207</td>\n",
       "    </tr>\n",
       "    <tr>\n",
       "      <th>2</th>\n",
       "      <td>var_81</td>\n",
       "      <td>var_119</td>\n",
       "      <td>-0.009697</td>\n",
       "    </tr>\n",
       "    <tr>\n",
       "      <th>3</th>\n",
       "      <td>var_119</td>\n",
       "      <td>var_81</td>\n",
       "      <td>-0.009697</td>\n",
       "    </tr>\n",
       "    <tr>\n",
       "      <th>4</th>\n",
       "      <td>var_190</td>\n",
       "      <td>var_107</td>\n",
       "      <td>-0.009696</td>\n",
       "    </tr>\n",
       "    <tr>\n",
       "      <th>5</th>\n",
       "      <td>var_107</td>\n",
       "      <td>var_190</td>\n",
       "      <td>-0.009696</td>\n",
       "    </tr>\n",
       "    <tr>\n",
       "      <th>6</th>\n",
       "      <td>var_30</td>\n",
       "      <td>var_69</td>\n",
       "      <td>-0.009356</td>\n",
       "    </tr>\n",
       "    <tr>\n",
       "      <th>7</th>\n",
       "      <td>var_69</td>\n",
       "      <td>var_30</td>\n",
       "      <td>-0.009356</td>\n",
       "    </tr>\n",
       "    <tr>\n",
       "      <th>8</th>\n",
       "      <td>var_179</td>\n",
       "      <td>var_177</td>\n",
       "      <td>-0.008875</td>\n",
       "    </tr>\n",
       "    <tr>\n",
       "      <th>9</th>\n",
       "      <td>var_177</td>\n",
       "      <td>var_179</td>\n",
       "      <td>-0.008875</td>\n",
       "    </tr>\n",
       "  </tbody>\n",
       "</table>\n",
       "</div>"
      ],
      "text/plain": [
       "   level_0  level_1         0\n",
       "0   var_53  var_148 -0.010207\n",
       "1  var_148   var_53 -0.010207\n",
       "2   var_81  var_119 -0.009697\n",
       "3  var_119   var_81 -0.009697\n",
       "4  var_190  var_107 -0.009696\n",
       "5  var_107  var_190 -0.009696\n",
       "6   var_30   var_69 -0.009356\n",
       "7   var_69   var_30 -0.009356\n",
       "8  var_179  var_177 -0.008875\n",
       "9  var_177  var_179 -0.008875"
      ]
     },
     "execution_count": 55,
     "metadata": {
      "tags": []
     },
     "output_type": "execute_result"
    }
   ],
   "source": [
    "correlations = data[data.columns.values[2:202]].corr().unstack().sort_values(kind=\"quicksort\").reset_index()\n",
    "correlations = correlations[correlations['level_0'] != correlations['level_1']]\n",
    "correlations.head(10)"
   ]
  },
  {
   "cell_type": "code",
   "execution_count": null,
   "metadata": {
    "colab": {
     "base_uri": "https://localhost:8080/",
     "height": 359
    },
    "id": "yXfuJnfumuh8",
    "outputId": "b613f138-6d38-43d2-9145-a499f37ef642"
   },
   "outputs": [
    {
     "data": {
      "text/html": [
       "<div>\n",
       "<style scoped>\n",
       "    .dataframe tbody tr th:only-of-type {\n",
       "        vertical-align: middle;\n",
       "    }\n",
       "\n",
       "    .dataframe tbody tr th {\n",
       "        vertical-align: top;\n",
       "    }\n",
       "\n",
       "    .dataframe thead th {\n",
       "        text-align: right;\n",
       "    }\n",
       "</style>\n",
       "<table border=\"1\" class=\"dataframe\">\n",
       "  <thead>\n",
       "    <tr style=\"text-align: right;\">\n",
       "      <th></th>\n",
       "      <th>level_0</th>\n",
       "      <th>level_1</th>\n",
       "      <th>0</th>\n",
       "    </tr>\n",
       "  </thead>\n",
       "  <tbody>\n",
       "    <tr>\n",
       "      <th>39790</th>\n",
       "      <td>var_81</td>\n",
       "      <td>var_165</td>\n",
       "      <td>0.008403</td>\n",
       "    </tr>\n",
       "    <tr>\n",
       "      <th>39791</th>\n",
       "      <td>var_165</td>\n",
       "      <td>var_81</td>\n",
       "      <td>0.008403</td>\n",
       "    </tr>\n",
       "    <tr>\n",
       "      <th>39792</th>\n",
       "      <td>var_146</td>\n",
       "      <td>var_169</td>\n",
       "      <td>0.008449</td>\n",
       "    </tr>\n",
       "    <tr>\n",
       "      <th>39793</th>\n",
       "      <td>var_169</td>\n",
       "      <td>var_146</td>\n",
       "      <td>0.008449</td>\n",
       "    </tr>\n",
       "    <tr>\n",
       "      <th>39794</th>\n",
       "      <td>var_110</td>\n",
       "      <td>var_191</td>\n",
       "      <td>0.008922</td>\n",
       "    </tr>\n",
       "    <tr>\n",
       "      <th>39795</th>\n",
       "      <td>var_191</td>\n",
       "      <td>var_110</td>\n",
       "      <td>0.008922</td>\n",
       "    </tr>\n",
       "    <tr>\n",
       "      <th>39796</th>\n",
       "      <td>var_52</td>\n",
       "      <td>var_14</td>\n",
       "      <td>0.009018</td>\n",
       "    </tr>\n",
       "    <tr>\n",
       "      <th>39797</th>\n",
       "      <td>var_14</td>\n",
       "      <td>var_52</td>\n",
       "      <td>0.009018</td>\n",
       "    </tr>\n",
       "    <tr>\n",
       "      <th>39798</th>\n",
       "      <td>var_78</td>\n",
       "      <td>var_35</td>\n",
       "      <td>0.009890</td>\n",
       "    </tr>\n",
       "    <tr>\n",
       "      <th>39799</th>\n",
       "      <td>var_35</td>\n",
       "      <td>var_78</td>\n",
       "      <td>0.009890</td>\n",
       "    </tr>\n",
       "  </tbody>\n",
       "</table>\n",
       "</div>"
      ],
      "text/plain": [
       "       level_0  level_1         0\n",
       "39790   var_81  var_165  0.008403\n",
       "39791  var_165   var_81  0.008403\n",
       "39792  var_146  var_169  0.008449\n",
       "39793  var_169  var_146  0.008449\n",
       "39794  var_110  var_191  0.008922\n",
       "39795  var_191  var_110  0.008922\n",
       "39796   var_52   var_14  0.009018\n",
       "39797   var_14   var_52  0.009018\n",
       "39798   var_78   var_35  0.009890\n",
       "39799   var_35   var_78  0.009890"
      ]
     },
     "execution_count": 56,
     "metadata": {
      "tags": []
     },
     "output_type": "execute_result"
    }
   ],
   "source": [
    "correlations.tail(10)"
   ]
  },
  {
   "cell_type": "markdown",
   "metadata": {
    "id": "mqnJ2oRdxz6Q"
   },
   "source": [
    "### SMOTE And Recursive Feature Elimination"
   ]
  },
  {
   "cell_type": "code",
   "execution_count": null,
   "metadata": {
    "colab": {
     "base_uri": "https://localhost:8080/",
     "height": 71
    },
    "id": "_XUwH2kZxq8_",
    "outputId": "8f4d9ea3-af9c-49af-ff8c-defa9b6ef6f0"
   },
   "outputs": [
    {
     "name": "stderr",
     "output_type": "stream",
     "text": [
      "/usr/local/lib/python3.6/dist-packages/sklearn/externals/six.py:31: DeprecationWarning: The module is deprecated in version 0.21 and will be removed in version 0.23 since we've dropped support for Python 2.7. Please rely on the official version of six (https://pypi.org/project/six/).\n",
      "  \"(https://pypi.org/project/six/).\", DeprecationWarning)\n"
     ]
    }
   ],
   "source": [
    "from sklearn.model_selection import train_test_split\n",
    "from imblearn.over_sampling import SMOTE\n",
    "\n",
    "y=data['target']\n",
    "x=data.copy()\n",
    "x=x.drop(['target','ID_code'],axis=1)\n",
    "sm = SMOTE(sampling_strategy='all', random_state=2)\n",
    "\n",
    "X_train, X_test, y_train, y_test = train_test_split(x,y, test_size=0.2, random_state=42)\n"
   ]
  },
  {
   "cell_type": "code",
   "execution_count": null,
   "metadata": {
    "id": "4OCMFXEbyjgf"
   },
   "outputs": [],
   "source": [
    "data = data.columns.values.tolist()\n",
    "y = ['y']\n",
    "X = [i for i in data if i not in y]"
   ]
  },
  {
   "cell_type": "code",
   "execution_count": null,
   "metadata": {
    "id": "njFtNqb6y5Ur"
   },
   "outputs": [],
   "source": [
    "os_data_X,os_data_y = sm.fit_sample(X_train, y_train)\n",
    "os_data_X = pd.DataFrame(data=os_data_X,columns=columns )\n",
    "os_data_y = pd.DataFrame(data=os_data_y,columns=['y'])"
   ]
  },
  {
   "cell_type": "code",
   "execution_count": null,
   "metadata": {
    "colab": {
     "base_uri": "https://localhost:8080/",
     "height": 71
    },
    "id": "gnWZieZ3yTe8",
    "outputId": "4b2b7367-4bda-4cb2-a4c5-ab58b5bde218"
   },
   "outputs": [
    {
     "name": "stderr",
     "output_type": "stream",
     "text": [
      "/usr/local/lib/python3.6/dist-packages/sklearn/linear_model/logistic.py:432: FutureWarning: Default solver will be changed to 'lbfgs' in 0.22. Specify a solver to silence this warning.\n",
      "  FutureWarning)\n"
     ]
    }
   ],
   "source": [
    "from sklearn.feature_selection import RFE\n",
    "from sklearn.linear_model import LogisticRegression\n",
    "logreg = LogisticRegression()\n",
    "rfe = RFE(logreg, 20)\n",
    "rfe = rfe.fit(os_data_X, os_data_y.values.ravel())\n",
    "print(rfe.support_)\n",
    "print(rfe.ranking_)"
   ]
  },
  {
   "cell_type": "markdown",
   "metadata": {
    "id": "dQ1YWFjSnfqS"
   },
   "source": [
    "### RANDOM FOREST along with SMOTE"
   ]
  },
  {
   "cell_type": "code",
   "execution_count": null,
   "metadata": {
    "id": "A0RhW1miWAUs"
   },
   "outputs": [],
   "source": [
    "from sklearn.ensemble import RandomForestRegressor\n",
    "from sklearn.model_selection import train_test_split\n",
    "from imblearn.over_sampling import SMOTE"
   ]
  },
  {
   "cell_type": "code",
   "execution_count": null,
   "metadata": {
    "id": "UuGw4vqpU_xL"
   },
   "outputs": [],
   "source": [
    "y=data['target']\n",
    "x=data.copy()\n",
    "x=x.drop(['target','ID_code'],axis=1)"
   ]
  },
  {
   "cell_type": "code",
   "execution_count": null,
   "metadata": {
    "id": "9f6wOMcxkyuk"
   },
   "outputs": [],
   "source": [
    "X_train, X_test, y_train, y_test = train_test_split(x, y, test_size=0.2, random_state=42)"
   ]
  },
  {
   "cell_type": "code",
   "execution_count": null,
   "metadata": {
    "colab": {
     "base_uri": "https://localhost:8080/",
     "height": 71
    },
    "id": "x_Z9tH3Cw9Dw",
    "outputId": "a3f4618d-9afb-4e34-a94b-b95b8f932468"
   },
   "outputs": [
    {
     "name": "stderr",
     "output_type": "stream",
     "text": [
      "/usr/local/lib/python3.6/dist-packages/sklearn/utils/deprecation.py:87: FutureWarning: Function safe_indexing is deprecated; safe_indexing is deprecated in version 0.22 and will be removed in version 0.24.\n",
      "  warnings.warn(msg, category=FutureWarning)\n"
     ]
    }
   ],
   "source": [
    "smt = SMOTE()\n",
    "X_train, y_train = smt.fit_sample(X_train, y_train)"
   ]
  },
  {
   "cell_type": "code",
   "execution_count": null,
   "metadata": {
    "colab": {
     "base_uri": "https://localhost:8080/",
     "height": 680
    },
    "id": "nZINxY8clqas",
    "outputId": "b063b5c8-3956-4ab5-f66c-d4a5cc87a084",
    "scrolled": true
   },
   "outputs": [
    {
     "name": "stderr",
     "output_type": "stream",
     "text": [
      "[Parallel(n_jobs=-1)]: Using backend ThreadingBackend with 2 concurrent workers.\n"
     ]
    },
    {
     "name": "stdout",
     "output_type": "stream",
     "text": [
      "building tree 1 of 30\n",
      "building tree 2 of 30\n",
      "building tree 3 of 30\n",
      "building tree 4 of 30\n",
      "building tree 5 of 30\n",
      "building tree 6 of 30\n",
      "building tree 7 of 30\n",
      "building tree 8 of 30\n",
      "building tree 9 of 30\n",
      "building tree 10 of 30\n",
      "building tree 11 of 30\n",
      "building tree 12 of 30\n",
      "building tree 13 of 30\n",
      "building tree 14 of 30\n",
      "building tree 15 of 30\n",
      "building tree 16 of 30\n",
      "building tree 17 of 30\n",
      "building tree 18 of 30\n",
      "building tree 19 of 30\n",
      "building tree 20 of 30\n",
      "building tree 21 of 30\n",
      "building tree 22 of 30\n",
      "building tree 23 of 30\n",
      "building tree 24 of 30\n",
      "building tree 25 of 30\n",
      "building tree 26 of 30\n",
      "building tree 27 of 30\n",
      "building tree 28 of 30\n",
      "building tree 29 of 30\n",
      "building tree 30 of 30\n"
     ]
    },
    {
     "name": "stderr",
     "output_type": "stream",
     "text": [
      "[Parallel(n_jobs=-1)]: Done  30 out of  30 | elapsed: 18.3min finished\n"
     ]
    },
    {
     "data": {
      "text/plain": [
       "RandomForestRegressor(bootstrap=True, ccp_alpha=0.0, criterion='mse',\n",
       "                      max_depth=None, max_features=0.5, max_leaf_nodes=None,\n",
       "                      max_samples=None, min_impurity_decrease=0.0,\n",
       "                      min_impurity_split=None, min_samples_leaf=5,\n",
       "                      min_samples_split=2, min_weight_fraction_leaf=0.0,\n",
       "                      n_estimators=30, n_jobs=-1, oob_score=True,\n",
       "                      random_state=None, verbose=2, warm_start=False)"
      ]
     },
     "execution_count": 14,
     "metadata": {
      "tags": []
     },
     "output_type": "execute_result"
    }
   ],
   "source": [
    "m = RandomForestRegressor(n_estimators=30, max_features=0.5, min_samples_leaf=5,n_jobs=-1,verbose=2, oob_score=True)\n",
    "m.fit(X_train, y_train)"
   ]
  },
  {
   "cell_type": "code",
   "execution_count": null,
   "metadata": {
    "colab": {
     "base_uri": "https://localhost:8080/",
     "height": 136
    },
    "id": "_b9kaIyGl66j",
    "outputId": "0e2919fd-6058-42ab-ff7c-5e0348c4178b"
   },
   "outputs": [
    {
     "name": "stderr",
     "output_type": "stream",
     "text": [
      "[Parallel(n_jobs=2)]: Using backend ThreadingBackend with 2 concurrent workers.\n",
      "[Parallel(n_jobs=2)]: Done  30 out of  30 | elapsed:    0.3s finished\n",
      "[Parallel(n_jobs=2)]: Using backend ThreadingBackend with 2 concurrent workers.\n",
      "[Parallel(n_jobs=2)]: Done  30 out of  30 | elapsed:    1.7s finished\n",
      "[Parallel(n_jobs=2)]: Using backend ThreadingBackend with 2 concurrent workers.\n"
     ]
    },
    {
     "name": "stdout",
     "output_type": "stream",
     "text": [
      "0.8797042318065029 -0.40821917685499565 0.61485903105747\n"
     ]
    },
    {
     "name": "stderr",
     "output_type": "stream",
     "text": [
      "[Parallel(n_jobs=2)]: Done  30 out of  30 | elapsed:    0.3s finished\n"
     ]
    }
   ],
   "source": [
    "y_pred = m.predict(X_test)\n",
    "print(m.score(X_train, y_train), m.score(X_test, y_test), m.oob_score_)\n"
   ]
  },
  {
   "cell_type": "code",
   "execution_count": null,
   "metadata": {
    "id": "UqVnjLmz_jzK"
   },
   "outputs": [],
   "source": [
    "y_pred=list(y_pred)"
   ]
  },
  {
   "cell_type": "code",
   "execution_count": null,
   "metadata": {
    "id": "L-lHF73F_LMq"
   },
   "outputs": [],
   "source": [
    "for i in range(len(y_pred)):\n",
    "  if(y_pred[i]>=0.25):\n",
    "    y_pred[i]=1\n",
    "  else:\n",
    "    y_pred[i]=0  "
   ]
  },
  {
   "cell_type": "code",
   "execution_count": null,
   "metadata": {
    "colab": {
     "base_uri": "https://localhost:8080/",
     "height": 170
    },
    "id": "_pDScedI5O8J",
    "outputId": "2c318bf1-3c18-438c-d47f-e2b78fc539a3"
   },
   "outputs": [
    {
     "name": "stdout",
     "output_type": "stream",
     "text": [
      "              precision    recall  f1-score   support\n",
      "\n",
      "           0       0.95      0.40      0.57     35903\n",
      "           1       0.14      0.82      0.23      4097\n",
      "\n",
      "    accuracy                           0.45     40000\n",
      "   macro avg       0.54      0.61      0.40     40000\n",
      "weighted avg       0.87      0.45      0.53     40000\n",
      "\n"
     ]
    }
   ],
   "source": [
    "from sklearn.metrics import confusion_matrix, classification_report \n",
    "print(classification_report(y_test, y_pred)) \n"
   ]
  },
  {
   "cell_type": "code",
   "execution_count": null,
   "metadata": {
    "colab": {
     "base_uri": "https://localhost:8080/",
     "height": 85
    },
    "id": "AxWI_Va09N2B",
    "outputId": "f5b51e37-2bba-46d2-d154-4252f9541926"
   },
   "outputs": [
    {
     "name": "stderr",
     "output_type": "stream",
     "text": [
      "[Parallel(n_jobs=2)]: Using backend ThreadingBackend with 2 concurrent workers.\n"
     ]
    },
    {
     "name": "stdout",
     "output_type": "stream",
     "text": [
      "Roc_auc 0.670334268103713\n",
      "Average_precision 0.13010204965069852\n"
     ]
    },
    {
     "name": "stderr",
     "output_type": "stream",
     "text": [
      "[Parallel(n_jobs=2)]: Done  30 out of  30 | elapsed:    0.3s finished\n"
     ]
    }
   ],
   "source": [
    "from sklearn.metrics import roc_auc_score\n",
    "print(\"Roc_auc\",roc_auc_score(y_test,m.predict(X_test)))\n",
    "from sklearn.metrics import average_precision_score\n",
    "average_precision = average_precision_score(y_test, y_pred)\n",
    "print(\"Average_precision\",average_precision)"
   ]
  },
  {
   "cell_type": "code",
   "execution_count": null,
   "metadata": {
    "colab": {
     "base_uri": "https://localhost:8080/",
     "height": 51
    },
    "id": "iWIJrq7j98sR",
    "outputId": "33a6c8eb-66b6-419a-b0db-81b3fb93de61"
   },
   "outputs": [
    {
     "data": {
      "text/plain": [
       "array([[14515, 21388],\n",
       "       [  728,  3369]])"
      ]
     },
     "execution_count": 20,
     "metadata": {
      "tags": []
     },
     "output_type": "execute_result"
    }
   ],
   "source": [
    "from sklearn.metrics import confusion_matrix\n",
    "\n",
    "confusion_matrix(y_test, y_pred)"
   ]
  },
  {
   "cell_type": "code",
   "execution_count": null,
   "metadata": {
    "colab": {
     "base_uri": "https://localhost:8080/",
     "height": 429
    },
    "id": "GEcu6x4zZlto",
    "outputId": "b17093f4-e11b-4df3-9571-b8a0c33c46c7"
   },
   "outputs": [
    {
     "data": {
      "image/png": "[encoded data removed]",
      "text/plain": [
       "<Figure size 864x504 with 1 Axes>"
      ]
     },
     "metadata": {
      "tags": []
     },
     "output_type": "display_data"
    }
   ],
   "source": [
    "fi = rf_feat_importance(m, x)\n",
    "def plot_fi(fi): return fi.plot('cols', 'imp', 'barh', figsize=(12,7), legend=False)\n",
    "plot_fi(fi[:50]);\n"
   ]
  },
  {
   "cell_type": "markdown",
   "metadata": {},
   "source": [
    "### Fitting random forest on top 100 important features"
   ]
  },
  {
   "cell_type": "code",
   "execution_count": null,
   "metadata": {
    "id": "48IUgBs2ZpiZ"
   },
   "outputs": [],
   "source": [
    "to_keep = fi[:100].cols\n",
    "df_new=x[to_keep].copy()\n"
   ]
  },
  {
   "cell_type": "code",
   "execution_count": null,
   "metadata": {
    "id": "ytPQZbP1aAOF"
   },
   "outputs": [],
   "source": [
    "X_train, X_test, y_train, y_test = train_test_split(df_new, y, test_size=0.4, random_state=42)"
   ]
  },
  {
   "cell_type": "code",
   "execution_count": null,
   "metadata": {
    "colab": {
     "base_uri": "https://localhost:8080/",
     "height": 377
    },
    "id": "SADzSZT7aPJ_",
    "outputId": "5c3e5192-20a8-4b2b-bf43-143f4052cb3f"
   },
   "outputs": [
    {
     "name": "stderr",
     "output_type": "stream",
     "text": [
      "[Parallel(n_jobs=-1)]: Using backend ThreadingBackend with 2 concurrent workers.\n"
     ]
    },
    {
     "name": "stdout",
     "output_type": "stream",
     "text": [
      "building tree 1 of 10building tree 2 of 10\n",
      "\n",
      "building tree 3 of 10\n",
      "building tree 4 of 10\n",
      "building tree 5 of 10\n",
      "building tree 6 of 10\n",
      "building tree 7 of 10\n",
      "building tree 8 of 10\n",
      "building tree 9 of 10\n",
      "building tree 10 of 10\n"
     ]
    },
    {
     "name": "stderr",
     "output_type": "stream",
     "text": [
      "[Parallel(n_jobs=-1)]: Done  10 out of  10 | elapsed:  1.7min finished\n",
      "/usr/local/lib/python3.6/dist-packages/sklearn/ensemble/forest.py:732: UserWarning: Some inputs do not have OOB scores. This probably means too few trees were used to compute any reliable oob estimates.\n",
      "  warn(\"Some inputs do not have OOB scores. \"\n"
     ]
    },
    {
     "data": {
      "text/plain": [
       "RandomForestRegressor(bootstrap=True, criterion='mse', max_depth=None,\n",
       "           max_features=0.5, max_leaf_nodes=None,\n",
       "           min_impurity_decrease=0.0, min_impurity_split=None,\n",
       "           min_samples_leaf=5, min_samples_split=2,\n",
       "           min_weight_fraction_leaf=0.0, n_estimators=10, n_jobs=-1,\n",
       "           oob_score=True, random_state=None, verbose=2, warm_start=False)"
      ]
     },
     "execution_count": 51,
     "metadata": {
      "tags": []
     },
     "output_type": "execute_result"
    }
   ],
   "source": [
    "m1 = RandomForestRegressor(n_estimators=10, max_features=0.5, min_samples_leaf=5,n_jobs=-1,verbose=2, oob_score=True)\n",
    "m1.fit(X_train, y_train)"
   ]
  },
  {
   "cell_type": "code",
   "execution_count": null,
   "metadata": {
    "colab": {
     "base_uri": "https://localhost:8080/",
     "height": 136
    },
    "id": "4y_InwUeaYNn",
    "outputId": "2dc7253b-7061-4ccc-84bf-5a16ffed7656"
   },
   "outputs": [
    {
     "name": "stderr",
     "output_type": "stream",
     "text": [
      "[Parallel(n_jobs=2)]: Using backend ThreadingBackend with 2 concurrent workers.\n",
      "[Parallel(n_jobs=2)]: Done  10 out of  10 | elapsed:    0.2s finished\n",
      "[Parallel(n_jobs=2)]: Using backend ThreadingBackend with 2 concurrent workers.\n",
      "[Parallel(n_jobs=2)]: Done  10 out of  10 | elapsed:    0.2s finished\n",
      "[Parallel(n_jobs=2)]: Using backend ThreadingBackend with 2 concurrent workers.\n"
     ]
    },
    {
     "name": "stdout",
     "output_type": "stream",
     "text": [
      "0.6175116004036567 0.10161392073080999 -0.04566418039408204\n"
     ]
    },
    {
     "name": "stderr",
     "output_type": "stream",
     "text": [
      "[Parallel(n_jobs=2)]: Done  10 out of  10 | elapsed:    0.2s finished\n"
     ]
    }
   ],
   "source": [
    "preds = m1.predict(X_test)\n",
    "print(m1.score(X_train, y_train), m1.score(X_test, y_test), m1.oob_score_)\n"
   ]
  },
  {
   "cell_type": "markdown",
   "metadata": {
    "id": "HtWFUw2WnTS2"
   },
   "source": [
    "### LOGISTIC REGRESSION"
   ]
  },
  {
   "cell_type": "code",
   "execution_count": null,
   "metadata": {
    "id": "PvWFB0vfd6mZ"
   },
   "outputs": [],
   "source": [
    "arr=[]\n",
    "for i in range(len(x)):\n",
    "  l=[]\n",
    "  for j in x.columns:  \n",
    "    l.append(x[j].iloc[i])\n",
    "  arr.append(l)"
   ]
  },
  {
   "cell_type": "code",
   "execution_count": null,
   "metadata": {
    "id": "wuo2w5uMlmSH"
   },
   "outputs": [],
   "source": [
    "from sklearn.linear_model import LogisticRegression"
   ]
  },
  {
   "cell_type": "code",
   "execution_count": null,
   "metadata": {
    "id": "wvbEHe8kmI3x"
   },
   "outputs": [],
   "source": [
    "X_train, X_test, y_train, y_test = train_test_split(arr, y, test_size=0.4, random_state=42)"
   ]
  },
  {
   "cell_type": "code",
   "execution_count": null,
   "metadata": {
    "colab": {
     "base_uri": "https://localhost:8080/",
     "height": 71
    },
    "id": "jT4YyIDblwmK",
    "outputId": "78e7fe0a-0755-48e2-b950-a3f1189e61d3"
   },
   "outputs": [
    {
     "name": "stderr",
     "output_type": "stream",
     "text": [
      "/usr/local/lib/python3.6/dist-packages/sklearn/linear_model/logistic.py:758: ConvergenceWarning: lbfgs failed to converge. Increase the number of iterations.\n",
      "  \"of iterations.\", ConvergenceWarning)\n"
     ]
    }
   ],
   "source": [
    "clf = LogisticRegression(random_state=0, solver='lbfgs',\n",
    "...                          multi_class='ovr').fit(X_train,y_train)"
   ]
  },
  {
   "cell_type": "code",
   "execution_count": null,
   "metadata": {
    "colab": {
     "base_uri": "https://localhost:8080/",
     "height": 68
    },
    "id": "Jhk5_daMZLt8",
    "outputId": "2c067e14-8687-4014-82ab-9ac5e843760e"
   },
   "outputs": [
    {
     "name": "stderr",
     "output_type": "stream",
     "text": [
      "/usr/local/lib/python3.6/dist-packages/numpy/core/_methods.py:32: RuntimeWarning: overflow encountered in reduce\n",
      "  return umr_sum(a, axis, dtype, out, keepdims)\n"
     ]
    },
    {
     "data": {
      "text/plain": [
       "0.61241636038064"
      ]
     },
     "execution_count": 116,
     "metadata": {
      "tags": []
     },
     "output_type": "execute_result"
    }
   ],
   "source": [
    "roc_auc_score(y_test, clf.predict(X_test))"
   ]
  },
  {
   "cell_type": "code",
   "execution_count": null,
   "metadata": {
    "colab": {
     "base_uri": "https://localhost:8080/",
     "height": 68
    },
    "id": "1--O_Dw-mXSY",
    "outputId": "2d3a488d-150f-4710-b45e-18594a9fb09d"
   },
   "outputs": [
    {
     "name": "stderr",
     "output_type": "stream",
     "text": [
      "/usr/local/lib/python3.6/dist-packages/numpy/core/_methods.py:32: RuntimeWarning: overflow encountered in reduce\n",
      "  return umr_sum(a, axis, dtype, out, keepdims)\n"
     ]
    },
    {
     "data": {
      "text/plain": [
       "0.9124416666666667"
      ]
     },
     "execution_count": 18,
     "metadata": {
      "tags": []
     },
     "output_type": "execute_result"
    }
   ],
   "source": [
    "clf.score(X_train,y_train)"
   ]
  },
  {
   "cell_type": "code",
   "execution_count": null,
   "metadata": {
    "colab": {
     "base_uri": "https://localhost:8080/",
     "height": 68
    },
    "id": "sgb-suPemghB",
    "outputId": "5d385fc8-af2c-4962-9418-4aadcae91e1d"
   },
   "outputs": [
    {
     "name": "stderr",
     "output_type": "stream",
     "text": [
      "/usr/local/lib/python3.6/dist-packages/numpy/core/_methods.py:32: RuntimeWarning: overflow encountered in reduce\n",
      "  return umr_sum(a, axis, dtype, out, keepdims)\n"
     ]
    },
    {
     "data": {
      "text/plain": [
       "0.910825"
      ]
     },
     "execution_count": 115,
     "metadata": {
      "tags": []
     },
     "output_type": "execute_result"
    }
   ],
   "source": [
    "clf.score(X_test,y_test)"
   ]
  },
  {
   "cell_type": "markdown",
   "metadata": {
    "id": "YEIBeDHnnKnR"
   },
   "source": [
    "### NEURAL NETWORK\n"
   ]
  },
  {
   "cell_type": "code",
   "execution_count": null,
   "metadata": {
    "colab": {
     "base_uri": "https://localhost:8080/",
     "height": 34
    },
    "id": "rf5_iS-uLo9L",
    "outputId": "0e16ad64-bdbb-4bda-aada-6df6e83134d6"
   },
   "outputs": [
    {
     "name": "stderr",
     "output_type": "stream",
     "text": [
      "Using TensorFlow backend.\n"
     ]
    }
   ],
   "source": [
    "from keras import models\n",
    "from keras import layers\n",
    "from sklearn.model_selection import train_test_split\n",
    "import numpy as np\n",
    "from sklearn.metrics import roc_auc_score"
   ]
  },
  {
   "cell_type": "code",
   "execution_count": null,
   "metadata": {
    "id": "sQXmdkAxHu_R"
   },
   "outputs": [],
   "source": [
    "X_train, X_test, y_train, y_test = train_test_split(x, y, test_size=0.2, random_state=42)"
   ]
  },
  {
   "cell_type": "code",
   "execution_count": null,
   "metadata": {
    "id": "DokBkAXBLt3w"
   },
   "outputs": [],
   "source": [
    "model=models.Sequential()\n",
    "model.add(layers.Dense(16 ,kernel_initializer = 'uniform', activation='relu', input_shape=(200,)))\n",
    "model.add(layers.Dense(16,kernel_initializer = 'uniform', activation='relu'))\n",
    "model.add(layers.Dropout(0.2))\n",
    "model.add(layers.Dense(16,kernel_initializer = 'uniform'  ,activation='relu'))\n",
    "\n",
    "model.add(layers.Dense(1,kernel_initializer = 'uniform',activation='sigmoid'))          "
   ]
  },
  {
   "cell_type": "code",
   "execution_count": null,
   "metadata": {
    "id": "e1gzwlJYM1eO"
   },
   "outputs": [],
   "source": [
    "model.compile(optimizer='rmsprop',loss='binary_crossentropy',metrics=['accuracy'])"
   ]
  },
  {
   "cell_type": "code",
   "execution_count": null,
   "metadata": {
    "colab": {
     "base_uri": "https://localhost:8080/",
     "height": 1754
    },
    "id": "g5uYhOSqOQSV",
    "outputId": "fc99663a-9f9b-40c0-bd9b-bfdef277a055",
    "scrolled": true
   },
   "outputs": [
    {
     "name": "stdout",
     "output_type": "stream",
     "text": [
      "Train on 160000 samples, validate on 40000 samples\n",
      "Epoch 1/50\n",
      "160000/160000 [==============================] - 3s 18us/step - loss: 0.2936 - acc: 0.9004 - val_loss: 0.2633 - val_acc: 0.9058\n",
      "Epoch 2/50\n",
      "160000/160000 [==============================] - 2s 13us/step - loss: 0.2644 - acc: 0.9062 - val_loss: 0.2603 - val_acc: 0.9074\n",
      "Epoch 3/50\n",
      "160000/160000 [==============================] - 2s 13us/step - loss: 0.2589 - acc: 0.9075 - val_loss: 0.2614 - val_acc: 0.9047\n",
      "Epoch 4/50\n",
      "160000/160000 [==============================] - 2s 13us/step - loss: 0.2569 - acc: 0.9079 - val_loss: 0.2523 - val_acc: 0.9089\n",
      "Epoch 5/50\n",
      "160000/160000 [==============================] - 2s 13us/step - loss: 0.2544 - acc: 0.9084 - val_loss: 0.2515 - val_acc: 0.9085\n",
      "Epoch 6/50\n",
      "160000/160000 [==============================] - 2s 13us/step - loss: 0.2519 - acc: 0.9093 - val_loss: 0.2648 - val_acc: 0.9029\n",
      "Epoch 7/50\n",
      "160000/160000 [==============================] - 2s 13us/step - loss: 0.2508 - acc: 0.9090 - val_loss: 0.2591 - val_acc: 0.9080\n",
      "Epoch 8/50\n",
      "160000/160000 [==============================] - 2s 13us/step - loss: 0.2495 - acc: 0.9095 - val_loss: 0.2548 - val_acc: 0.9086\n",
      "Epoch 9/50\n",
      "160000/160000 [==============================] - 2s 13us/step - loss: 0.2482 - acc: 0.9101 - val_loss: 0.2487 - val_acc: 0.9091\n",
      "Epoch 10/50\n",
      "160000/160000 [==============================] - 2s 13us/step - loss: 0.2480 - acc: 0.9104 - val_loss: 0.2510 - val_acc: 0.9081\n",
      "Epoch 11/50\n",
      "160000/160000 [==============================] - 2s 13us/step - loss: 0.2474 - acc: 0.9100 - val_loss: 0.2567 - val_acc: 0.9084\n",
      "Epoch 12/50\n",
      "160000/160000 [==============================] - 2s 13us/step - loss: 0.2465 - acc: 0.9101 - val_loss: 0.2822 - val_acc: 0.9057\n",
      "Epoch 13/50\n",
      "160000/160000 [==============================] - 2s 13us/step - loss: 0.2458 - acc: 0.9108 - val_loss: 0.2531 - val_acc: 0.9092\n",
      "Epoch 14/50\n",
      "160000/160000 [==============================] - 2s 13us/step - loss: 0.2456 - acc: 0.9108 - val_loss: 0.2503 - val_acc: 0.9088\n",
      "Epoch 15/50\n",
      "160000/160000 [==============================] - 2s 13us/step - loss: 0.2451 - acc: 0.9111 - val_loss: 0.2496 - val_acc: 0.9074\n",
      "Epoch 16/50\n",
      "160000/160000 [==============================] - 2s 13us/step - loss: 0.2446 - acc: 0.9113 - val_loss: 0.2668 - val_acc: 0.9085\n",
      "Epoch 17/50\n",
      "160000/160000 [==============================] - 2s 13us/step - loss: 0.2438 - acc: 0.9107 - val_loss: 0.2513 - val_acc: 0.9086\n",
      "Epoch 18/50\n",
      "160000/160000 [==============================] - 2s 13us/step - loss: 0.2436 - acc: 0.9115 - val_loss: 0.2738 - val_acc: 0.9045\n",
      "Epoch 19/50\n",
      "160000/160000 [==============================] - 2s 13us/step - loss: 0.2432 - acc: 0.9113 - val_loss: 0.2588 - val_acc: 0.9083\n",
      "Epoch 20/50\n",
      "160000/160000 [==============================] - 2s 13us/step - loss: 0.2429 - acc: 0.9113 - val_loss: 0.2484 - val_acc: 0.9086\n",
      "Epoch 21/50\n",
      "160000/160000 [==============================] - 2s 13us/step - loss: 0.2423 - acc: 0.9115 - val_loss: 0.2581 - val_acc: 0.9081\n",
      "Epoch 22/50\n",
      "160000/160000 [==============================] - 2s 13us/step - loss: 0.2416 - acc: 0.9115 - val_loss: 0.2809 - val_acc: 0.9051\n",
      "Epoch 23/50\n",
      "160000/160000 [==============================] - 2s 13us/step - loss: 0.2421 - acc: 0.9117 - val_loss: 0.2484 - val_acc: 0.9072\n",
      "Epoch 24/50\n",
      "160000/160000 [==============================] - 2s 14us/step - loss: 0.2416 - acc: 0.9118 - val_loss: 0.2573 - val_acc: 0.9089\n",
      "Epoch 25/50\n",
      "160000/160000 [==============================] - 2s 14us/step - loss: 0.2418 - acc: 0.9122 - val_loss: 0.2518 - val_acc: 0.9087\n",
      "Epoch 26/50\n",
      "160000/160000 [==============================] - 2s 13us/step - loss: 0.2411 - acc: 0.9123 - val_loss: 0.2586 - val_acc: 0.9074\n",
      "Epoch 27/50\n",
      "160000/160000 [==============================] - 2s 13us/step - loss: 0.2411 - acc: 0.9123 - val_loss: 0.2462 - val_acc: 0.9078\n",
      "Epoch 28/50\n",
      "160000/160000 [==============================] - 2s 13us/step - loss: 0.2406 - acc: 0.9124 - val_loss: 0.2584 - val_acc: 0.9081\n",
      "Epoch 29/50\n",
      "160000/160000 [==============================] - 2s 13us/step - loss: 0.2404 - acc: 0.9125 - val_loss: 0.2506 - val_acc: 0.9081\n",
      "Epoch 30/50\n",
      "160000/160000 [==============================] - 2s 13us/step - loss: 0.2405 - acc: 0.9128 - val_loss: 0.2474 - val_acc: 0.9081\n",
      "Epoch 31/50\n",
      "160000/160000 [==============================] - 2s 13us/step - loss: 0.2401 - acc: 0.9121 - val_loss: 0.2459 - val_acc: 0.9085\n",
      "Epoch 32/50\n",
      "160000/160000 [==============================] - 2s 13us/step - loss: 0.2398 - acc: 0.9126 - val_loss: 0.2902 - val_acc: 0.9063\n",
      "Epoch 33/50\n",
      "160000/160000 [==============================] - 2s 13us/step - loss: 0.2400 - acc: 0.9130 - val_loss: 0.2499 - val_acc: 0.9077\n",
      "Epoch 34/50\n",
      "160000/160000 [==============================] - 2s 13us/step - loss: 0.2395 - acc: 0.9130 - val_loss: 0.2482 - val_acc: 0.9080\n",
      "Epoch 35/50\n",
      "160000/160000 [==============================] - 2s 13us/step - loss: 0.2393 - acc: 0.9127 - val_loss: 0.2532 - val_acc: 0.9085\n",
      "Epoch 36/50\n",
      "160000/160000 [==============================] - 2s 13us/step - loss: 0.2394 - acc: 0.9127 - val_loss: 0.2517 - val_acc: 0.9082\n",
      "Epoch 37/50\n",
      "160000/160000 [==============================] - 2s 13us/step - loss: 0.2392 - acc: 0.9129 - val_loss: 0.2594 - val_acc: 0.9074\n",
      "Epoch 38/50\n",
      "160000/160000 [==============================] - 2s 13us/step - loss: 0.2387 - acc: 0.9129 - val_loss: 0.2482 - val_acc: 0.9084\n",
      "Epoch 39/50\n",
      "160000/160000 [==============================] - 2s 13us/step - loss: 0.2385 - acc: 0.9134 - val_loss: 0.2613 - val_acc: 0.9076\n",
      "Epoch 40/50\n",
      "160000/160000 [==============================] - 2s 13us/step - loss: 0.2387 - acc: 0.9136 - val_loss: 0.2477 - val_acc: 0.9071\n",
      "Epoch 41/50\n",
      "160000/160000 [==============================] - 2s 13us/step - loss: 0.2382 - acc: 0.9136 - val_loss: 0.2534 - val_acc: 0.9085\n",
      "Epoch 42/50\n",
      "160000/160000 [==============================] - 2s 13us/step - loss: 0.2382 - acc: 0.9135 - val_loss: 0.2471 - val_acc: 0.9079\n",
      "Epoch 43/50\n",
      "160000/160000 [==============================] - 2s 13us/step - loss: 0.2378 - acc: 0.9134 - val_loss: 0.2511 - val_acc: 0.9082\n",
      "Epoch 44/50\n",
      "160000/160000 [==============================] - 2s 13us/step - loss: 0.2381 - acc: 0.9138 - val_loss: 0.2490 - val_acc: 0.9064\n",
      "Epoch 45/50\n",
      "160000/160000 [==============================] - 2s 13us/step - loss: 0.2378 - acc: 0.9134 - val_loss: 0.2525 - val_acc: 0.9087\n",
      "Epoch 46/50\n",
      "160000/160000 [==============================] - 2s 13us/step - loss: 0.2380 - acc: 0.9133 - val_loss: 0.2533 - val_acc: 0.9060\n",
      "Epoch 47/50\n",
      "160000/160000 [==============================] - 2s 13us/step - loss: 0.2377 - acc: 0.9136 - val_loss: 0.2509 - val_acc: 0.9083\n",
      "Epoch 48/50\n",
      "160000/160000 [==============================] - 2s 13us/step - loss: 0.2372 - acc: 0.9143 - val_loss: 0.2507 - val_acc: 0.9087\n",
      "Epoch 49/50\n",
      "160000/160000 [==============================] - 2s 13us/step - loss: 0.2371 - acc: 0.9137 - val_loss: 0.2469 - val_acc: 0.9085\n",
      "Epoch 50/50\n",
      "160000/160000 [==============================] - 2s 13us/step - loss: 0.2371 - acc: 0.9141 - val_loss: 0.2475 - val_acc: 0.9091\n"
     ]
    }
   ],
   "source": [
    "history=model.fit(X_train,y_train,epochs=50,batch_size=256,validation_data=(X_test,y_test))"
   ]
  },
  {
   "cell_type": "code",
   "execution_count": null,
   "metadata": {
    "id": "Pknd3ysVOnfq"
   },
   "outputs": [],
   "source": [
    "z=model.predict(X_test)\n",
    "z=z>0.5\n",
    "z=z.astype(int)"
   ]
  },
  {
   "cell_type": "code",
   "execution_count": null,
   "metadata": {
    "colab": {
     "base_uri": "https://localhost:8080/",
     "height": 34
    },
    "id": "s42LQYcAkXz6",
    "outputId": "77e7a396-2e07-4408-ef54-d750e2061164"
   },
   "outputs": [
    {
     "data": {
      "text/plain": [
       "0.6003851596419341"
      ]
     },
     "execution_count": 59,
     "metadata": {
      "tags": []
     },
     "output_type": "execute_result"
    }
   ],
   "source": [
    "roc_auc_score(y_test, z)"
   ]
  },
  {
   "cell_type": "markdown",
   "metadata": {
    "id": "FgGgqiuVm4bN"
   },
   "source": [
    "### XG BOOST USING UPSAMPLED DATA"
   ]
  },
  {
   "cell_type": "code",
   "execution_count": null,
   "metadata": {
    "id": "HlqeCKF0ZX6P"
   },
   "outputs": [],
   "source": [
    "from numpy import loadtxt\n",
    "from xgboost import XGBClassifier\n",
    "from sklearn.model_selection import train_test_split\n",
    "from sklearn.metrics import accuracy_score"
   ]
  },
  {
   "cell_type": "code",
   "execution_count": null,
   "metadata": {
    "id": "Qr2cd1O7ZfLf"
   },
   "outputs": [],
   "source": [
    "data=pd.read_csv('train_santander.csv')"
   ]
  },
  {
   "cell_type": "code",
   "execution_count": null,
   "metadata": {
    "colab": {
     "base_uri": "https://localhost:8080/",
     "height": 68
    },
    "id": "GU4Q34woqFzB",
    "outputId": "0f805229-72e2-4a35-f855-da61249ee86b"
   },
   "outputs": [
    {
     "name": "stdout",
     "output_type": "stream",
     "text": [
      "Memory usage of dataframe is 308.23 MB\n",
      "Memory usage after optimization is: 78.01 MB\n",
      "Decreased by 74.7%\n"
     ]
    }
   ],
   "source": [
    "data = reduce_mem_usage(data)\n"
   ]
  },
  {
   "cell_type": "code",
   "execution_count": null,
   "metadata": {
    "id": "_gTzmTkbt4ix"
   },
   "outputs": [],
   "source": [
    "features = [feature for feature in data.columns if 'var_' in feature]\n",
    "def augment_df(df):\n",
    "    for feature in features:\n",
    "        df[f'sq_{feature}'] = df[feature]**2\n",
    "        df[f'repo_{feature}'] = df[feature].apply(lambda x: 0 if x==0 else 1/x)\n",
    "    df['min'] = df[features].min(axis=1)\n",
    "    df['mean'] = df[features].mean(axis=1)\n",
    "    df['max'] = df[features].max(axis=1)\n",
    "    df['median'] = df[features].median(axis=1)\n",
    "    df['std'] = df[features].std(axis=1)\n",
    "    df['var'] = df[features].var(axis=1)\n",
    "    df['abs_mean'] = df[features].abs().mean(axis=1)\n",
    "    df['abs_median'] = df[features].abs().median(axis=1)\n",
    "    df['abs_std'] = df[features].abs().std(axis=1)\n",
    "    df['skew'] = df[features].skew(axis=1)\n",
    "    df['kurt'] = df[features].kurt(axis=1)\n",
    "    df['sq_kurt'] = df[[f'sq_{feature}' for feature in features]].kurt(axis=1)\n",
    "    return df"
   ]
  },
  {
   "cell_type": "code",
   "execution_count": null,
   "metadata": {
    "id": "tp4pRwDxltwG"
   },
   "outputs": [],
   "source": [
    "from sklearn.utils import resample\n",
    "df_majority = data[data.target==0]\n",
    "df_minority = data[data.target==1]\n",
    "df_minority_upsampled = resample(df_minority, \n",
    "                                 replace=True,     # sample with replacement\n",
    "                                 n_samples=len(data[data.target==0]),    # to match majority class\n",
    "                                 random_state=123)\n",
    "\n",
    "data_upsampled = pd.concat([df_majority, df_minority_upsampled])\n",
    "\n",
    "y=data_upsampled['target']\n",
    "x=data_upsampled.copy()\n",
    "x=x.drop(['target','ID_code'],axis=1)\n",
    "X_train, X_test, y_train, y_test = train_test_split(x, y, test_size=0.2, random_state=42)\n"
   ]
  },
  {
   "cell_type": "code",
   "execution_count": null,
   "metadata": {
    "colab": {
     "base_uri": "https://localhost:8080/",
     "height": 119
    },
    "id": "eD7-rNELaHFW",
    "outputId": "24f28a18-dbb6-4ac3-c619-da25d1373144"
   },
   "outputs": [
    {
     "data": {
      "text/plain": [
       "XGBClassifier(base_score=0.5, booster='gbtree', colsample_bylevel=1,\n",
       "       colsample_bytree=1, gamma=0, learning_rate=0.1, max_delta_step=0,\n",
       "       max_depth=3, min_child_weight=1, missing=None, n_estimators=200,\n",
       "       n_jobs=1, nthread=None, objective='binary:logistic', random_state=0,\n",
       "       reg_alpha=0, reg_lambda=1, scale_pos_weight=1, seed=None,\n",
       "       silent=True, subsample=1)"
      ]
     },
     "execution_count": 25,
     "metadata": {
      "tags": []
     },
     "output_type": "execute_result"
    }
   ],
   "source": [
    "model = XGBClassifier(n_estimators=200)\n",
    "model.fit(X_train, y_train)"
   ]
  },
  {
   "cell_type": "code",
   "execution_count": null,
   "metadata": {
    "colab": {
     "base_uri": "https://localhost:8080/",
     "height": 34
    },
    "id": "L0S1kXRLaVBO",
    "outputId": "4839fc24-6e69-4e10-93a7-2249443b72ec"
   },
   "outputs": [
    {
     "data": {
      "text/plain": [
       "0.8038153704494118"
      ]
     },
     "execution_count": 26,
     "metadata": {
      "tags": []
     },
     "output_type": "execute_result"
    }
   ],
   "source": [
    "from sklearn.metrics import roc_auc_score\n",
    "roc_auc_score(y_test, model.predict(X_test))"
   ]
  },
  {
   "cell_type": "code",
   "execution_count": null,
   "metadata": {
    "colab": {
     "base_uri": "https://localhost:8080/",
     "height": 187
    },
    "id": "blBDmRvOy-xw",
    "outputId": "c63d646b-1981-462d-f7fc-da974576e81b"
   },
   "outputs": [
    {
     "name": "stdout",
     "output_type": "stream",
     "text": [
      "Memory usage of dataframe is 306.70 MB\n",
      "Memory usage after optimization is: 77.82 MB\n",
      "Decreased by 74.6%\n"
     ]
    },
    {
     "name": "stderr",
     "output_type": "stream",
     "text": [
      "/usr/local/lib/python3.6/dist-packages/pandas/core/nanops.py:632: RuntimeWarning: overflow encountered in multiply\n",
      "  adj = 3 * (count - 1) ** 2 / ((count - 2) * (count - 3))\n",
      "/usr/local/lib/python3.6/dist-packages/pandas/core/nanops.py:633: RuntimeWarning: overflow encountered in multiply\n",
      "  numer = count * (count + 1) * (count - 1) * m4\n"
     ]
    },
    {
     "name": "stdout",
     "output_type": "stream",
     "text": [
      "Memory usage of dataframe is 463.87 MB\n",
      "Memory usage after optimization is: 237.27 MB\n",
      "Decreased by 48.8%\n"
     ]
    }
   ],
   "source": [
    "test_data=pd.read_csv('test.csv')\n",
    "test_data = reduce_mem_usage(test_data)\n",
    "test_data=augment_df(test_data)\n",
    "test_data = reduce_mem_usage(test_data)\n",
    "\n",
    "\n"
   ]
  },
  {
   "cell_type": "code",
   "execution_count": null,
   "metadata": {
    "id": "4fNhW2Bezskh"
   },
   "outputs": [],
   "source": [
    "test_data=test_data.dropna(axis=1)"
   ]
  },
  {
   "cell_type": "code",
   "execution_count": null,
   "metadata": {
    "colab": {
     "base_uri": "https://localhost:8080/",
     "height": 253
    },
    "id": "LPXf3MSlzhmT",
    "outputId": "d89add6c-9073-4223-f03c-207c4da7f705"
   },
   "outputs": [
    {
     "data": {
      "text/html": [
       "<div>\n",
       "<style scoped>\n",
       "    .dataframe tbody tr th:only-of-type {\n",
       "        vertical-align: middle;\n",
       "    }\n",
       "\n",
       "    .dataframe tbody tr th {\n",
       "        vertical-align: top;\n",
       "    }\n",
       "\n",
       "    .dataframe thead th {\n",
       "        text-align: right;\n",
       "    }\n",
       "</style>\n",
       "<table border=\"1\" class=\"dataframe\">\n",
       "  <thead>\n",
       "    <tr style=\"text-align: right;\">\n",
       "      <th></th>\n",
       "      <th>ID_code</th>\n",
       "      <th>var_0</th>\n",
       "      <th>var_1</th>\n",
       "      <th>var_2</th>\n",
       "      <th>var_3</th>\n",
       "      <th>var_4</th>\n",
       "      <th>var_5</th>\n",
       "      <th>var_6</th>\n",
       "      <th>var_7</th>\n",
       "      <th>var_8</th>\n",
       "      <th>...</th>\n",
       "      <th>min</th>\n",
       "      <th>mean</th>\n",
       "      <th>max</th>\n",
       "      <th>median</th>\n",
       "      <th>std</th>\n",
       "      <th>var</th>\n",
       "      <th>abs_mean</th>\n",
       "      <th>abs_median</th>\n",
       "      <th>abs_std</th>\n",
       "      <th>skew</th>\n",
       "    </tr>\n",
       "  </thead>\n",
       "  <tbody>\n",
       "    <tr>\n",
       "      <th>0</th>\n",
       "      <td>test_0</td>\n",
       "      <td>11.062500</td>\n",
       "      <td>7.781250</td>\n",
       "      <td>12.953125</td>\n",
       "      <td>9.429688</td>\n",
       "      <td>11.429688</td>\n",
       "      <td>-2.380859</td>\n",
       "      <td>5.847656</td>\n",
       "      <td>18.265625</td>\n",
       "      <td>2.132812</td>\n",
       "      <td>...</td>\n",
       "      <td>-31.984375</td>\n",
       "      <td>7.074219</td>\n",
       "      <td>42.03125</td>\n",
       "      <td>7.312500</td>\n",
       "      <td>9.906250</td>\n",
       "      <td>98.0625</td>\n",
       "      <td>9.570312</td>\n",
       "      <td>8.468750</td>\n",
       "      <td>7.511719</td>\n",
       "      <td>-0.088440</td>\n",
       "    </tr>\n",
       "    <tr>\n",
       "      <th>1</th>\n",
       "      <td>test_1</td>\n",
       "      <td>8.531250</td>\n",
       "      <td>1.253906</td>\n",
       "      <td>11.304688</td>\n",
       "      <td>5.187500</td>\n",
       "      <td>9.195312</td>\n",
       "      <td>-4.011719</td>\n",
       "      <td>6.019531</td>\n",
       "      <td>18.625000</td>\n",
       "      <td>-4.414062</td>\n",
       "      <td>...</td>\n",
       "      <td>-41.187500</td>\n",
       "      <td>6.253906</td>\n",
       "      <td>35.59375</td>\n",
       "      <td>6.437500</td>\n",
       "      <td>9.539062</td>\n",
       "      <td>90.9375</td>\n",
       "      <td>8.968750</td>\n",
       "      <td>7.949219</td>\n",
       "      <td>7.035156</td>\n",
       "      <td>-0.559570</td>\n",
       "    </tr>\n",
       "    <tr>\n",
       "      <th>2</th>\n",
       "      <td>test_2</td>\n",
       "      <td>5.484375</td>\n",
       "      <td>-10.359375</td>\n",
       "      <td>10.140625</td>\n",
       "      <td>7.046875</td>\n",
       "      <td>10.265625</td>\n",
       "      <td>9.804688</td>\n",
       "      <td>4.894531</td>\n",
       "      <td>20.250000</td>\n",
       "      <td>1.523438</td>\n",
       "      <td>...</td>\n",
       "      <td>-34.343750</td>\n",
       "      <td>7.140625</td>\n",
       "      <td>39.37500</td>\n",
       "      <td>7.265625</td>\n",
       "      <td>9.968750</td>\n",
       "      <td>99.4375</td>\n",
       "      <td>9.531250</td>\n",
       "      <td>8.281250</td>\n",
       "      <td>7.683594</td>\n",
       "      <td>-0.134277</td>\n",
       "    </tr>\n",
       "    <tr>\n",
       "      <th>3</th>\n",
       "      <td>test_3</td>\n",
       "      <td>8.539062</td>\n",
       "      <td>-1.322266</td>\n",
       "      <td>12.023438</td>\n",
       "      <td>6.574219</td>\n",
       "      <td>8.843750</td>\n",
       "      <td>3.173828</td>\n",
       "      <td>4.941406</td>\n",
       "      <td>20.562500</td>\n",
       "      <td>3.375000</td>\n",
       "      <td>...</td>\n",
       "      <td>-21.484375</td>\n",
       "      <td>7.070312</td>\n",
       "      <td>40.34375</td>\n",
       "      <td>6.898438</td>\n",
       "      <td>8.257812</td>\n",
       "      <td>68.2500</td>\n",
       "      <td>8.851562</td>\n",
       "      <td>7.914062</td>\n",
       "      <td>6.320312</td>\n",
       "      <td>-0.167725</td>\n",
       "    </tr>\n",
       "    <tr>\n",
       "      <th>4</th>\n",
       "      <td>test_4</td>\n",
       "      <td>11.703125</td>\n",
       "      <td>-0.132690</td>\n",
       "      <td>14.132812</td>\n",
       "      <td>7.750000</td>\n",
       "      <td>9.101562</td>\n",
       "      <td>-8.585938</td>\n",
       "      <td>6.859375</td>\n",
       "      <td>10.601562</td>\n",
       "      <td>2.988281</td>\n",
       "      <td>...</td>\n",
       "      <td>-24.828125</td>\n",
       "      <td>7.105469</td>\n",
       "      <td>45.56250</td>\n",
       "      <td>6.835938</td>\n",
       "      <td>10.039062</td>\n",
       "      <td>100.8125</td>\n",
       "      <td>9.617188</td>\n",
       "      <td>8.609375</td>\n",
       "      <td>7.660156</td>\n",
       "      <td>0.293457</td>\n",
       "    </tr>\n",
       "  </tbody>\n",
       "</table>\n",
       "<p>5 rows × 611 columns</p>\n",
       "</div>"
      ],
      "text/plain": [
       "  ID_code      var_0      var_1      var_2     var_3      var_4     var_5  \\\n",
       "0  test_0  11.062500   7.781250  12.953125  9.429688  11.429688 -2.380859   \n",
       "1  test_1   8.531250   1.253906  11.304688  5.187500   9.195312 -4.011719   \n",
       "2  test_2   5.484375 -10.359375  10.140625  7.046875  10.265625  9.804688   \n",
       "3  test_3   8.539062  -1.322266  12.023438  6.574219   8.843750  3.173828   \n",
       "4  test_4  11.703125  -0.132690  14.132812  7.750000   9.101562 -8.585938   \n",
       "\n",
       "      var_6      var_7     var_8    ...           min      mean       max  \\\n",
       "0  5.847656  18.265625  2.132812    ...    -31.984375  7.074219  42.03125   \n",
       "1  6.019531  18.625000 -4.414062    ...    -41.187500  6.253906  35.59375   \n",
       "2  4.894531  20.250000  1.523438    ...    -34.343750  7.140625  39.37500   \n",
       "3  4.941406  20.562500  3.375000    ...    -21.484375  7.070312  40.34375   \n",
       "4  6.859375  10.601562  2.988281    ...    -24.828125  7.105469  45.56250   \n",
       "\n",
       "     median        std       var  abs_mean  abs_median   abs_std      skew  \n",
       "0  7.312500   9.906250   98.0625  9.570312    8.468750  7.511719 -0.088440  \n",
       "1  6.437500   9.539062   90.9375  8.968750    7.949219  7.035156 -0.559570  \n",
       "2  7.265625   9.968750   99.4375  9.531250    8.281250  7.683594 -0.134277  \n",
       "3  6.898438   8.257812   68.2500  8.851562    7.914062  6.320312 -0.167725  \n",
       "4  6.835938  10.039062  100.8125  9.617188    8.609375  7.660156  0.293457  \n",
       "\n",
       "[5 rows x 611 columns]"
      ]
     },
     "execution_count": 18,
     "metadata": {
      "tags": []
     },
     "output_type": "execute_result"
    }
   ],
   "source": [
    "test_data.head()"
   ]
  },
  {
   "cell_type": "markdown",
   "metadata": {
    "id": "tknsO_HCmn9x"
   },
   "source": [
    "### NEURAL NETS USING UPSAMPLED DATA"
   ]
  },
  {
   "cell_type": "code",
   "execution_count": null,
   "metadata": {
    "id": "mUvJT--yfM_M"
   },
   "outputs": [],
   "source": [
    "from sklearn.utils import resample\n",
    "from keras import models\n",
    "from keras import layers\n",
    "from sklearn.model_selection import train_test_split\n",
    "from sklearn.metrics import roc_auc_score"
   ]
  },
  {
   "cell_type": "code",
   "execution_count": null,
   "metadata": {
    "id": "X5Za3cGy_hkP"
   },
   "outputs": [],
   "source": [
    "data=data.dropna(axis=1)\n"
   ]
  },
  {
   "cell_type": "code",
   "execution_count": null,
   "metadata": {
    "colab": {
     "base_uri": "https://localhost:8080/",
     "height": 253
    },
    "id": "XXdhmxH1_klJ",
    "outputId": "11867874-249c-45e0-a9d5-41a419343c07"
   },
   "outputs": [
    {
     "data": {
      "text/html": [
       "<div>\n",
       "<style scoped>\n",
       "    .dataframe tbody tr th:only-of-type {\n",
       "        vertical-align: middle;\n",
       "    }\n",
       "\n",
       "    .dataframe tbody tr th {\n",
       "        vertical-align: top;\n",
       "    }\n",
       "\n",
       "    .dataframe thead th {\n",
       "        text-align: right;\n",
       "    }\n",
       "</style>\n",
       "<table border=\"1\" class=\"dataframe\">\n",
       "  <thead>\n",
       "    <tr style=\"text-align: right;\">\n",
       "      <th></th>\n",
       "      <th>ID_code</th>\n",
       "      <th>target</th>\n",
       "      <th>var_0</th>\n",
       "      <th>var_1</th>\n",
       "      <th>var_2</th>\n",
       "      <th>var_3</th>\n",
       "      <th>var_4</th>\n",
       "      <th>var_5</th>\n",
       "      <th>var_6</th>\n",
       "      <th>var_7</th>\n",
       "      <th>...</th>\n",
       "      <th>min</th>\n",
       "      <th>mean</th>\n",
       "      <th>max</th>\n",
       "      <th>median</th>\n",
       "      <th>std</th>\n",
       "      <th>var</th>\n",
       "      <th>abs_mean</th>\n",
       "      <th>abs_median</th>\n",
       "      <th>abs_std</th>\n",
       "      <th>skew</th>\n",
       "    </tr>\n",
       "  </thead>\n",
       "  <tbody>\n",
       "    <tr>\n",
       "      <th>0</th>\n",
       "      <td>train_0</td>\n",
       "      <td>0</td>\n",
       "      <td>8.921875</td>\n",
       "      <td>-6.785156</td>\n",
       "      <td>11.906250</td>\n",
       "      <td>5.093750</td>\n",
       "      <td>11.460938</td>\n",
       "      <td>-9.281250</td>\n",
       "      <td>5.117188</td>\n",
       "      <td>18.625000</td>\n",
       "      <td>...</td>\n",
       "      <td>-21.453125</td>\n",
       "      <td>7.308594</td>\n",
       "      <td>43.12500</td>\n",
       "      <td>6.773438</td>\n",
       "      <td>9.328125</td>\n",
       "      <td>87.0625</td>\n",
       "      <td>9.460938</td>\n",
       "      <td>8.414062</td>\n",
       "      <td>7.136719</td>\n",
       "      <td>0.101929</td>\n",
       "    </tr>\n",
       "    <tr>\n",
       "      <th>1</th>\n",
       "      <td>train_1</td>\n",
       "      <td>0</td>\n",
       "      <td>11.500000</td>\n",
       "      <td>-4.148438</td>\n",
       "      <td>13.859375</td>\n",
       "      <td>5.390625</td>\n",
       "      <td>12.359375</td>\n",
       "      <td>7.042969</td>\n",
       "      <td>5.621094</td>\n",
       "      <td>16.531250</td>\n",
       "      <td>...</td>\n",
       "      <td>-47.375000</td>\n",
       "      <td>7.070312</td>\n",
       "      <td>40.56250</td>\n",
       "      <td>7.222656</td>\n",
       "      <td>10.328125</td>\n",
       "      <td>106.6875</td>\n",
       "      <td>9.687500</td>\n",
       "      <td>8.031250</td>\n",
       "      <td>7.917969</td>\n",
       "      <td>-0.351562</td>\n",
       "    </tr>\n",
       "    <tr>\n",
       "      <th>2</th>\n",
       "      <td>train_2</td>\n",
       "      <td>0</td>\n",
       "      <td>8.609375</td>\n",
       "      <td>-2.746094</td>\n",
       "      <td>12.078125</td>\n",
       "      <td>7.894531</td>\n",
       "      <td>10.585938</td>\n",
       "      <td>-9.085938</td>\n",
       "      <td>6.941406</td>\n",
       "      <td>14.617188</td>\n",
       "      <td>...</td>\n",
       "      <td>-22.406250</td>\n",
       "      <td>6.199219</td>\n",
       "      <td>33.87500</td>\n",
       "      <td>5.898438</td>\n",
       "      <td>8.750000</td>\n",
       "      <td>76.6250</td>\n",
       "      <td>8.617188</td>\n",
       "      <td>7.285156</td>\n",
       "      <td>6.375000</td>\n",
       "      <td>-0.057007</td>\n",
       "    </tr>\n",
       "    <tr>\n",
       "      <th>3</th>\n",
       "      <td>train_3</td>\n",
       "      <td>0</td>\n",
       "      <td>11.062500</td>\n",
       "      <td>-2.152344</td>\n",
       "      <td>8.953125</td>\n",
       "      <td>7.195312</td>\n",
       "      <td>12.585938</td>\n",
       "      <td>-1.835938</td>\n",
       "      <td>5.843750</td>\n",
       "      <td>14.921875</td>\n",
       "      <td>...</td>\n",
       "      <td>-35.156250</td>\n",
       "      <td>6.445312</td>\n",
       "      <td>38.09375</td>\n",
       "      <td>6.703125</td>\n",
       "      <td>9.593750</td>\n",
       "      <td>92.0000</td>\n",
       "      <td>9.101562</td>\n",
       "      <td>7.746094</td>\n",
       "      <td>7.101562</td>\n",
       "      <td>-0.479980</td>\n",
       "    </tr>\n",
       "    <tr>\n",
       "      <th>4</th>\n",
       "      <td>train_4</td>\n",
       "      <td>0</td>\n",
       "      <td>9.835938</td>\n",
       "      <td>-1.483398</td>\n",
       "      <td>12.875000</td>\n",
       "      <td>6.636719</td>\n",
       "      <td>12.273438</td>\n",
       "      <td>2.449219</td>\n",
       "      <td>5.941406</td>\n",
       "      <td>19.250000</td>\n",
       "      <td>...</td>\n",
       "      <td>-65.500000</td>\n",
       "      <td>6.753906</td>\n",
       "      <td>41.09375</td>\n",
       "      <td>6.945312</td>\n",
       "      <td>11.281250</td>\n",
       "      <td>127.2500</td>\n",
       "      <td>9.898438</td>\n",
       "      <td>7.898438</td>\n",
       "      <td>8.664062</td>\n",
       "      <td>-1.464844</td>\n",
       "    </tr>\n",
       "  </tbody>\n",
       "</table>\n",
       "<p>5 rows × 612 columns</p>\n",
       "</div>"
      ],
      "text/plain": [
       "   ID_code  target      var_0     var_1      var_2     var_3      var_4  \\\n",
       "0  train_0       0   8.921875 -6.785156  11.906250  5.093750  11.460938   \n",
       "1  train_1       0  11.500000 -4.148438  13.859375  5.390625  12.359375   \n",
       "2  train_2       0   8.609375 -2.746094  12.078125  7.894531  10.585938   \n",
       "3  train_3       0  11.062500 -2.152344   8.953125  7.195312  12.585938   \n",
       "4  train_4       0   9.835938 -1.483398  12.875000  6.636719  12.273438   \n",
       "\n",
       "      var_5     var_6      var_7    ...           min      mean       max  \\\n",
       "0 -9.281250  5.117188  18.625000    ...    -21.453125  7.308594  43.12500   \n",
       "1  7.042969  5.621094  16.531250    ...    -47.375000  7.070312  40.56250   \n",
       "2 -9.085938  6.941406  14.617188    ...    -22.406250  6.199219  33.87500   \n",
       "3 -1.835938  5.843750  14.921875    ...    -35.156250  6.445312  38.09375   \n",
       "4  2.449219  5.941406  19.250000    ...    -65.500000  6.753906  41.09375   \n",
       "\n",
       "     median        std       var  abs_mean  abs_median   abs_std      skew  \n",
       "0  6.773438   9.328125   87.0625  9.460938    8.414062  7.136719  0.101929  \n",
       "1  7.222656  10.328125  106.6875  9.687500    8.031250  7.917969 -0.351562  \n",
       "2  5.898438   8.750000   76.6250  8.617188    7.285156  6.375000 -0.057007  \n",
       "3  6.703125   9.593750   92.0000  9.101562    7.746094  7.101562 -0.479980  \n",
       "4  6.945312  11.281250  127.2500  9.898438    7.898438  8.664062 -1.464844  \n",
       "\n",
       "[5 rows x 612 columns]"
      ]
     },
     "execution_count": 39,
     "metadata": {
      "tags": []
     },
     "output_type": "execute_result"
    }
   ],
   "source": [
    "data.head()"
   ]
  },
  {
   "cell_type": "code",
   "execution_count": null,
   "metadata": {
    "id": "mbkQwXU6efps"
   },
   "outputs": [],
   "source": [
    "df_majority = data[data.target==0]\n",
    "df_minority = data[data.target==1]"
   ]
  },
  {
   "cell_type": "code",
   "execution_count": null,
   "metadata": {
    "colab": {
     "base_uri": "https://localhost:8080/",
     "height": 34
    },
    "id": "PlD8nQahe48e",
    "outputId": "9b65fca0-9133-49ce-e519-e9438e9c5604"
   },
   "outputs": [
    {
     "data": {
      "text/plain": [
       "179902"
      ]
     },
     "execution_count": 41,
     "metadata": {
      "tags": []
     },
     "output_type": "execute_result"
    }
   ],
   "source": [
    "len(data[data.target==0])"
   ]
  },
  {
   "cell_type": "code",
   "execution_count": null,
   "metadata": {
    "colab": {
     "base_uri": "https://localhost:8080/",
     "height": 68
    },
    "id": "KEL99Casfjz4",
    "outputId": "70e205ef-6382-48bc-8191-3c54477c35ba"
   },
   "outputs": [
    {
     "data": {
      "text/plain": [
       "0    179902\n",
       "1     20098\n",
       "Name: target, dtype: int64"
      ]
     },
     "execution_count": 42,
     "metadata": {
      "tags": []
     },
     "output_type": "execute_result"
    }
   ],
   "source": [
    "data.target.value_counts()"
   ]
  },
  {
   "cell_type": "code",
   "execution_count": null,
   "metadata": {
    "id": "tr5gKD0wefnZ"
   },
   "outputs": [],
   "source": [
    "df_minority_upsampled = resample(df_minority, \n",
    "                                 replace=True,     # sample with replacement\n",
    "                                 n_samples=len(data[data.target==0]),    # to match majority class\n",
    "                                 random_state=123)"
   ]
  },
  {
   "cell_type": "code",
   "execution_count": null,
   "metadata": {
    "id": "FVVkuIm-f3YZ"
   },
   "outputs": [],
   "source": [
    "data_upsampled = pd.concat([df_majority, df_minority_upsampled])\n"
   ]
  },
  {
   "cell_type": "code",
   "execution_count": null,
   "metadata": {
    "colab": {
     "base_uri": "https://localhost:8080/",
     "height": 68
    },
    "id": "ox1saS3ZefkR",
    "outputId": "b9257670-a087-458b-dc5e-accf62f11ec5"
   },
   "outputs": [
    {
     "data": {
      "text/plain": [
       "1    179902\n",
       "0    179902\n",
       "Name: target, dtype: int64"
      ]
     },
     "execution_count": 45,
     "metadata": {
      "tags": []
     },
     "output_type": "execute_result"
    }
   ],
   "source": [
    "data_upsampled.target.value_counts()"
   ]
  },
  {
   "cell_type": "code",
   "execution_count": null,
   "metadata": {
    "id": "byo26RiRffK7"
   },
   "outputs": [],
   "source": [
    "y=data_upsampled['target']\n",
    "x=data_upsampled.copy()\n",
    "x=x.drop(['target','ID_code'],axis=1)\n",
    "X_train, X_test, y_train, y_test = train_test_split(x, y, test_size=0.2, random_state=42)"
   ]
  },
  {
   "cell_type": "code",
   "execution_count": null,
   "metadata": {
    "id": "RvCX53U0gtIY"
   },
   "outputs": [],
   "source": [
    "model=models.Sequential()\n",
    "model.add(layers.Dense(100 , activation='relu', input_shape=(len(x.columns),)))\n",
    "model.add(layers.Dropout(0.2))\n",
    "model.add(layers.Dense(100, activation='relu'))\n",
    "model.add(layers.Dropout(0.2))\n",
    "model.add(layers.Dense(100,activation='relu'))\n",
    "model.add(layers.Dropout(0.2))\n",
    "model.add(layers.Dense(1,activation='sigmoid'))          "
   ]
  },
  {
   "cell_type": "code",
   "execution_count": null,
   "metadata": {
    "id": "zht1lHgHg-dZ"
   },
   "outputs": [],
   "source": [
    "model.compile(optimizer='rmsprop',loss='binary_crossentropy',metrics=['accuracy'])"
   ]
  },
  {
   "cell_type": "code",
   "execution_count": null,
   "metadata": {
    "id": "Z-QmvXFPhI6E"
   },
   "outputs": [],
   "source": [
    "history=model.fit(X_train,y_train,epochs=50,batch_size=256,validation_data=(X_test,y_test))"
   ]
  },
  {
   "cell_type": "code",
   "execution_count": null,
   "metadata": {
    "colab": {
     "base_uri": "https://localhost:8080/",
     "height": 34
    },
    "id": "F-ld6IjVhTQR",
    "outputId": "4e3b17e1-adbd-4b61-a034-a6e1141c5c67"
   },
   "outputs": [
    {
     "data": {
      "text/plain": [
       "0.5"
      ]
     },
     "execution_count": 32,
     "metadata": {
      "tags": []
     },
     "output_type": "execute_result"
    }
   ],
   "source": [
    "z = model.predict(X_test)\n",
    "z = z>0.5\n",
    "z = z.astype(int)\n",
    "roc_auc_score(y_test, z)"
   ]
  },
  {
   "cell_type": "code",
   "execution_count": null,
   "metadata": {
    "id": "kTblTe5fiW8I"
   },
   "outputs": [],
   "source": [
    "test_data=pd.read_csv('test.csv')\n",
    "copy=test_data.copy()\n",
    "test_data=test_data.drop('ID_code',axis=1)\n",
    "\n",
    "print(test_data.head())\n",
    "pred=[]\n",
    "pred_arr=[]\n",
    "pred_arr=model.predict(test_data)\n",
    "pred_arr=pred_arr>0.5\n",
    "pred_arr=pred_arr.astype(int)\n",
    "for i in pred_arr:\n",
    "    for j in i:\n",
    "        pred.append(j)\n",
    "        \n",
    "sub=pd.DataFrame({'ID_code':copy['ID_code'],'target':pred})  \n",
    "sub.to_csv('Submission.csv',index=False)  "
   ]
  },
  {
   "cell_type": "markdown",
   "metadata": {
    "id": "PHvvf8v1nvkk"
   },
   "source": [
    "### LOGISTIC REGRESSION USING UPSAMPLED DATA"
   ]
  },
  {
   "cell_type": "code",
   "execution_count": null,
   "metadata": {
    "id": "gqd6lFMXo7Tj"
   },
   "outputs": [],
   "source": [
    "from sklearn.model_selection import train_test_split\n",
    "from sklearn.linear_model import LogisticRegression\n",
    "from sklearn.utils import resample"
   ]
  },
  {
   "cell_type": "code",
   "execution_count": null,
   "metadata": {
    "id": "0viWZBfpoKgW"
   },
   "outputs": [],
   "source": [
    "df_majority = data[data.target==0]\n",
    "df_minority = data[data.target==1]\n",
    "df_minority_upsampled = resample(df_minority, \n",
    "                                 replace=True,     # sample with replacement\n",
    "                                 n_samples=len(data[data.target==0]),    # to match majority class\n",
    "                                 random_state=123)\n",
    "\n",
    "data_upsampled = pd.concat([df_majority, df_minority_upsampled])\n",
    "\n",
    "y=data_upsampled['target']\n",
    "x=data_upsampled.copy()\n",
    "x=x.drop(['target','ID_code'],axis=1)\n",
    "\n"
   ]
  },
  {
   "cell_type": "code",
   "execution_count": null,
   "metadata": {
    "id": "N0axJLFan0s1"
   },
   "outputs": [],
   "source": [
    "arr=[]\n",
    "for i in range(len(x)):\n",
    "  l=[]\n",
    "  for j in x.columns:  \n",
    "    l.append(x[j].iloc[i])\n",
    "  arr.append(l)"
   ]
  },
  {
   "cell_type": "code",
   "execution_count": null,
   "metadata": {
    "id": "jAc5YadQoc7Q"
   },
   "outputs": [],
   "source": [
    "X_train, X_test, y_train, y_test = train_test_split(arr, y, test_size=0.2, random_state=42)"
   ]
  },
  {
   "cell_type": "code",
   "execution_count": null,
   "metadata": {
    "colab": {
     "base_uri": "https://localhost:8080/",
     "height": 51
    },
    "id": "VwyV-orLonxO",
    "outputId": "120f2985-36f9-485d-996d-12043bc02831"
   },
   "outputs": [
    {
     "name": "stderr",
     "output_type": "stream",
     "text": [
      "/usr/local/lib/python3.6/dist-packages/sklearn/linear_model/logistic.py:758: ConvergenceWarning: lbfgs failed to converge. Increase the number of iterations.\n",
      "  \"of iterations.\", ConvergenceWarning)\n"
     ]
    }
   ],
   "source": [
    "clf = LogisticRegression(random_state=0, solver='lbfgs',multi_class='ovr').fit(X_train,y_train)"
   ]
  },
  {
   "cell_type": "code",
   "execution_count": null,
   "metadata": {
    "colab": {
     "base_uri": "https://localhost:8080/",
     "height": 68
    },
    "id": "I_3Ai82fozSU",
    "outputId": "df4137a0-2a1c-48a9-89d2-3d90cb8fc1a6"
   },
   "outputs": [
    {
     "name": "stderr",
     "output_type": "stream",
     "text": [
      "/usr/local/lib/python3.6/dist-packages/numpy/core/_methods.py:32: RuntimeWarning: overflow encountered in reduce\n",
      "  return umr_sum(a, axis, dtype, out, keepdims)\n"
     ]
    },
    {
     "data": {
      "text/plain": [
       "0.7414501903341366"
      ]
     },
     "execution_count": 48,
     "metadata": {
      "tags": []
     },
     "output_type": "execute_result"
    }
   ],
   "source": [
    "roc_auc_score(y_test, clf.predict(X_test))"
   ]
  },
  {
   "cell_type": "markdown",
   "metadata": {
    "id": "e6aGwR83ThgU"
   },
   "source": [
    "### LIGHT GBM WITH UPSAMPLED DATA"
   ]
  },
  {
   "cell_type": "code",
   "execution_count": null,
   "metadata": {
    "id": "6TMUWMmQTy0G"
   },
   "outputs": [],
   "source": [
    "from sklearn.model_selection import train_test_split\n",
    "from sklearn.metrics import roc_auc_score\n",
    "from imblearn.over_sampling import SMOTE\n",
    "from sklearn.utils import resample"
   ]
  },
  {
   "cell_type": "code",
   "execution_count": null,
   "metadata": {
    "id": "XuXlvO1LT189"
   },
   "outputs": [],
   "source": [
    "df_majority = data[data.target==0]\n",
    "df_minority = data[data.target==1]\n",
    "df_minority_upsampled = resample(df_minority, \n",
    "                                 replace=True,     # sample with replacement\n",
    "                                 n_samples=len(data[data.target==0]),    # to match majority class\n",
    "                                 random_state=123)\n",
    "\n",
    "data_upsampled = pd.concat([df_majority, df_minority_upsampled])\n",
    "\n",
    "y=data_upsampled['target']\n",
    "x=data_upsampled.copy()\n",
    "x=x.drop(['target','ID_code'],axis=1)\n",
    "X_train, X_test, y_train, y_test = train_test_split(x, y, test_size=0.2, random_state=42)\n"
   ]
  },
  {
   "cell_type": "code",
   "execution_count": null,
   "metadata": {
    "id": "eZVDib4mE1aa"
   },
   "outputs": [],
   "source": [
    "y=data['target']\n",
    "x=data.copy()\n",
    "x=x.drop(['target','ID_code'],axis=1)\n",
    "X_train, X_test, y_train, y_test = train_test_split(x, y, test_size=0.2, random_state=42)"
   ]
  },
  {
   "cell_type": "code",
   "execution_count": null,
   "metadata": {
    "id": "Ph3jzD1-kLE4"
   },
   "outputs": [],
   "source": [
    "import lightgbm as lgb\n",
    "d_train = lgb.Dataset(X_train, label=y_train)"
   ]
  },
  {
   "cell_type": "code",
   "execution_count": null,
   "metadata": {
    "id": "M-Own1GeIG3W"
   },
   "outputs": [],
   "source": [
    "params = {}\n",
    "params['learning_rate'] = 0.001\n",
    "params['boosting_type'] = 'gbdt'\n",
    "params['objective'] = 'binary'\n",
    "params['metric'] = 'binary_logloss'\n",
    "params['sub_feature'] = 0.5\n",
    "params['num_leaves'] = 1025\n",
    "params['min_data'] = 50\n",
    "params['max_depth'] = 10\n",
    "clf = lgb.train(params, d_train, 500)"
   ]
  },
  {
   "cell_type": "code",
   "execution_count": null,
   "metadata": {
    "id": "GS1jSCikZq8N"
   },
   "outputs": [],
   "source": [
    "param = {\n",
    "    'boosting_type':'gbdt',\n",
    "    'bagging_freq': 5,          \n",
    "    'bagging_fraction': 0.331,   'boost_from_average':'false',   \n",
    "    'boost': 'gbdt',             'feature_fraction': 0.0405,     \n",
    "    'learning_rate': 0.01,\n",
    "    'max_depth': -1,             'metric':'auc',                \n",
    "    'min_data_in_leaf': 80,     \n",
    "    'min_sum_hessian_in_leaf': 10.0,\n",
    "    'num_leaves': 13,            \n",
    "    'num_threads': 8,            'tree_learner': 'serial',   \n",
    "    'objective': 'binary',       'verbosity': 1,\n",
    "    'class_weight':'balanced'\n",
    "}"
   ]
  },
  {
   "cell_type": "code",
   "execution_count": null,
   "metadata": {
    "id": "1JZDSoZrZvXV"
   },
   "outputs": [],
   "source": [
    "clf = lgb.train(param, d_train, 5000)"
   ]
  },
  {
   "cell_type": "code",
   "execution_count": null,
   "metadata": {
    "id": "d31SvopBlt9o"
   },
   "outputs": [],
   "source": [
    "clf=lgb.LGBMClassifier(boosting_type ='gbdt',bagging_freq= 5,bagging_fraction= 0.331,boost_from_average='false',feature_fraction=0.0405,learning_rate =0.0083,max_depth= -1,metric='auc',min_data_in_leaf= 80,min_sum_hessian_in_leaf= 10.0,num_leaves= 13,n_estimators=50000,          \n",
    "    num_threads= 8,            tree_learner= 'serial',   \n",
    "    objective= 'binary',       verbosity= 1,\n",
    "    class_weight='balanced')"
   ]
  },
  {
   "cell_type": "code",
   "execution_count": null,
   "metadata": {
    "colab": {
     "base_uri": "https://localhost:8080/",
     "height": 221
    },
    "id": "-J4zA-PSnD_0",
    "outputId": "99881a09-713b-43ee-be90-1c1e624b4a19"
   },
   "outputs": [
    {
     "data": {
      "text/plain": [
       "LGBMClassifier(bagging_fraction=0.331, bagging_freq=5,\n",
       "        boost_from_average='false', boosting_type='gbdt',\n",
       "        class_weight='balanced', colsample_bytree=1.0,\n",
       "        feature_fraction=0.0405, importance_type='split',\n",
       "        learning_rate=0.0083, max_depth=-1, metric='auc',\n",
       "        min_child_samples=20, min_child_weight=0.001, min_data_in_leaf=80,\n",
       "        min_split_gain=0.0, min_sum_hessian_in_leaf=10.0,\n",
       "        n_estimators=50000, n_jobs=-1, num_leaves=13, num_threads=8,\n",
       "        objective='binary', random_state=None, reg_alpha=0.0,\n",
       "        reg_lambda=0.0, silent=True, subsample=1.0,\n",
       "        subsample_for_bin=200000, subsample_freq=0, tree_learner='serial',\n",
       "        verbosity=1)"
      ]
     },
     "execution_count": 53,
     "metadata": {
      "tags": []
     },
     "output_type": "execute_result"
    }
   ],
   "source": [
    "clf.fit(X_train,y_train)"
   ]
  },
  {
   "cell_type": "code",
   "execution_count": null,
   "metadata": {
    "id": "nKfRJRf5c3kp"
   },
   "outputs": [],
   "source": [
    "from sklearn.externals import joblib\n",
    "clf = joblib.load('lgb.pkl')"
   ]
  },
  {
   "cell_type": "code",
   "execution_count": null,
   "metadata": {
    "id": "6xjpxICFOOGh"
   },
   "outputs": [],
   "source": [
    "z = clf.predict(X_test)"
   ]
  },
  {
   "cell_type": "code",
   "execution_count": null,
   "metadata": {
    "colab": {
     "base_uri": "https://localhost:8080/",
     "height": 34
    },
    "id": "IMN3JSMfOcha",
    "outputId": "418b8b27-496a-4b30-a878-4a8841fde5d7"
   },
   "outputs": [
    {
     "data": {
      "text/plain": [
       "0.6359920093866673"
      ]
     },
     "execution_count": 73,
     "metadata": {
      "tags": []
     },
     "output_type": "execute_result"
    }
   ],
   "source": [
    "z = z>0.5\n",
    "z = z.astype(int)\n",
    "roc_auc_score(y_test, z)"
   ]
  },
  {
   "cell_type": "code",
   "execution_count": null,
   "metadata": {
    "colab": {
     "base_uri": "https://localhost:8080/",
     "height": 34
    },
    "id": "h-iRjvM-Nwqw",
    "outputId": "d706ad78-c6a5-4feb-9ed4-bf11aff5da7e"
   },
   "outputs": [
    {
     "name": "stdout",
     "output_type": "stream",
     "text": [
      "0.921225\n"
     ]
    }
   ],
   "source": [
    "from sklearn.metrics import accuracy_score\n",
    "accuracy=accuracy_score(z,y_test)\n",
    "print(accuracy)"
   ]
  }
 ],
 "metadata": {
  "accelerator": "GPU",
  "colab": {
   "collapsed_sections": [],
   "name": "Santander_Dissertation Project.ipynb",
   "provenance": [],
   "toc_visible": true
  },
  "kernelspec": {
   "display_name": "Python 3",
   "language": "python",
   "name": "python3"
  },
  "language_info": {
   "codemirror_mode": {
    "name": "ipython",
    "version": 3
   },
   "file_extension": ".py",
   "mimetype": "text/x-python",
   "name": "python",
   "nbconvert_exporter": "python",
   "pygments_lexer": "ipython3",
   "version": "3.8.3"
  }
 },
 "nbformat": 4,
 "nbformat_minor": 1
}
